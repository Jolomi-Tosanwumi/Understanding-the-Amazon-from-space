{
 "cells": [
  {
   "cell_type": "markdown",
   "metadata": {
    "papermill": {
     "duration": 0.047606,
     "end_time": "2020-09-18T13:34:05.715349",
     "exception": false,
     "start_time": "2020-09-18T13:34:05.667743",
     "status": "completed"
    },
    "tags": []
   },
   "source": [
    "# Title:\n",
    "\n",
    "### Planet: Understanding the Amazon from space -- *(a competition hosted on Kaggle)*\n",
    "#### Use satelite data to track the human footprint in the Amazon rainforest\n",
    "\n",
    "# Description:\n",
    "\n",
    "Every minute, the world loses an area of forest the size of 48 football fields. And deforestation in the Amazon Basin accounts for the largest share, contributing to reduced biodiversity, habitat loss, climate change, and other devastating effects. But better data about the location of deforestation and human encroachment on forests can help governments and local stakeholders respond more quickly and effectively.\n",
    "\n",
    "Planet, designer and builder of the world’s largest constellation of Earth-imaging satellites, will soon be collecting daily imagery of the entire land surface of the earth at 3-5 meter resolution. While considerable research has been devoted to tracking changes in forests, it typically depends on coarse-resolution imagery from Landsat (30 meter pixels) or MODIS (250 meter pixels). This limits its effectiveness in areas where small-scale deforestation or forest degradation dominate.\n",
    "\n",
    "Furthermore, these existing methods generally cannot differentiate between human causes of forest loss and natural causes. Higher resolution imagery has already been shown to be exceptionally good at this, but robust methods have not yet been developed for Planet imagery.\n",
    "\n",
    "In this competition, Planet and its Brazilian partner SCCON are challenging Kagglers to label satellite image chips with atmospheric conditions and various classes of land cover/land use. Resulting algorithms will help the global community better understand where, how, and why deforestation happens all over the world - and ultimately how to respond."
   ]
  },
  {
   "cell_type": "code",
   "execution_count": 1,
   "metadata": {
    "execution": {
     "iopub.execute_input": "2020-09-18T13:34:05.812573Z",
     "iopub.status.busy": "2020-09-18T13:34:05.811509Z",
     "iopub.status.idle": "2020-09-18T13:34:05.814679Z",
     "shell.execute_reply": "2020-09-18T13:34:05.814079Z"
    },
    "papermill": {
     "duration": 0.054876,
     "end_time": "2020-09-18T13:34:05.814801",
     "exception": false,
     "start_time": "2020-09-18T13:34:05.759925",
     "status": "completed"
    },
    "tags": []
   },
   "outputs": [],
   "source": [
    "%matplotlib inline"
   ]
  },
  {
   "cell_type": "code",
   "execution_count": 2,
   "metadata": {
    "_cell_guid": "79c7e3d0-c299-4dcb-8224-4455121ee9b0",
    "_uuid": "d629ff2d2480ee46fbb7e2d37f6b5fab8052498a",
    "execution": {
     "iopub.execute_input": "2020-09-18T13:34:05.910632Z",
     "iopub.status.busy": "2020-09-18T13:34:05.909813Z",
     "iopub.status.idle": "2020-09-18T13:34:12.328405Z",
     "shell.execute_reply": "2020-09-18T13:34:12.327743Z"
    },
    "papermill": {
     "duration": 6.46916,
     "end_time": "2020-09-18T13:34:12.328539",
     "exception": false,
     "start_time": "2020-09-18T13:34:05.859379",
     "status": "completed"
    },
    "tags": []
   },
   "outputs": [],
   "source": [
    "# importing useful libraries\n",
    "\n",
    "import numpy as np\n",
    "import pandas as pd\n",
    "import matplotlib.pyplot as plt\n",
    "import seaborn as sns\n",
    "from skimage import io\n",
    "import os\n",
    "import tensorflow as tf\n",
    "from tensorflow.keras.preprocessing import image"
   ]
  },
  {
   "cell_type": "code",
   "execution_count": 3,
   "metadata": {
    "execution": {
     "iopub.execute_input": "2020-09-18T13:34:12.425314Z",
     "iopub.status.busy": "2020-09-18T13:34:12.424437Z",
     "iopub.status.idle": "2020-09-18T13:34:13.173565Z",
     "shell.execute_reply": "2020-09-18T13:34:13.174175Z"
    },
    "papermill": {
     "duration": 0.800502,
     "end_time": "2020-09-18T13:34:13.174361",
     "exception": false,
     "start_time": "2020-09-18T13:34:12.373859",
     "status": "completed"
    },
    "tags": []
   },
   "outputs": [
    {
     "name": "stdout",
     "output_type": "stream",
     "text": [
      "/kaggle/working\r\n"
     ]
    }
   ],
   "source": [
    "!pwd # checking current working directory"
   ]
  },
  {
   "cell_type": "code",
   "execution_count": 4,
   "metadata": {
    "execution": {
     "iopub.execute_input": "2020-09-18T13:34:13.277652Z",
     "iopub.status.busy": "2020-09-18T13:34:13.276558Z",
     "iopub.status.idle": "2020-09-18T13:34:13.353869Z",
     "shell.execute_reply": "2020-09-18T13:34:13.353283Z"
    },
    "papermill": {
     "duration": 0.133514,
     "end_time": "2020-09-18T13:34:13.354014",
     "exception": false,
     "start_time": "2020-09-18T13:34:13.220500",
     "status": "completed"
    },
    "tags": []
   },
   "outputs": [
    {
     "name": "stdout",
     "output_type": "stream",
     "text": [
      "(40479, 2)\n"
     ]
    },
    {
     "data": {
      "text/html": [
       "<div>\n",
       "<style scoped>\n",
       "    .dataframe tbody tr th:only-of-type {\n",
       "        vertical-align: middle;\n",
       "    }\n",
       "\n",
       "    .dataframe tbody tr th {\n",
       "        vertical-align: top;\n",
       "    }\n",
       "\n",
       "    .dataframe thead th {\n",
       "        text-align: right;\n",
       "    }\n",
       "</style>\n",
       "<table border=\"1\" class=\"dataframe\">\n",
       "  <thead>\n",
       "    <tr style=\"text-align: right;\">\n",
       "      <th></th>\n",
       "      <th>image_name</th>\n",
       "      <th>tags</th>\n",
       "    </tr>\n",
       "  </thead>\n",
       "  <tbody>\n",
       "    <tr>\n",
       "      <th>0</th>\n",
       "      <td>train_0</td>\n",
       "      <td>haze primary</td>\n",
       "    </tr>\n",
       "    <tr>\n",
       "      <th>1</th>\n",
       "      <td>train_1</td>\n",
       "      <td>agriculture clear primary water</td>\n",
       "    </tr>\n",
       "    <tr>\n",
       "      <th>2</th>\n",
       "      <td>train_2</td>\n",
       "      <td>clear primary</td>\n",
       "    </tr>\n",
       "    <tr>\n",
       "      <th>3</th>\n",
       "      <td>train_3</td>\n",
       "      <td>clear primary</td>\n",
       "    </tr>\n",
       "    <tr>\n",
       "      <th>4</th>\n",
       "      <td>train_4</td>\n",
       "      <td>agriculture clear habitation primary road</td>\n",
       "    </tr>\n",
       "  </tbody>\n",
       "</table>\n",
       "</div>"
      ],
      "text/plain": [
       "  image_name                                       tags\n",
       "0    train_0                               haze primary\n",
       "1    train_1            agriculture clear primary water\n",
       "2    train_2                              clear primary\n",
       "3    train_3                              clear primary\n",
       "4    train_4  agriculture clear habitation primary road"
      ]
     },
     "execution_count": 4,
     "metadata": {},
     "output_type": "execute_result"
    }
   ],
   "source": [
    "# loading in the training classes, it is a dataframe mapping of image name to tags\n",
    "train_classes_df = pd.read_csv(\"/kaggle/input/planets-dataset/planet/planet/train_classes.csv\")\n",
    "print(train_classes_df.shape)\n",
    "train_classes_df.head()"
   ]
  },
  {
   "cell_type": "code",
   "execution_count": 5,
   "metadata": {
    "execution": {
     "iopub.execute_input": "2020-09-18T13:34:13.452818Z",
     "iopub.status.busy": "2020-09-18T13:34:13.452115Z",
     "iopub.status.idle": "2020-09-18T13:34:13.483123Z",
     "shell.execute_reply": "2020-09-18T13:34:13.483680Z"
    },
    "papermill": {
     "duration": 0.082745,
     "end_time": "2020-09-18T13:34:13.483825",
     "exception": false,
     "start_time": "2020-09-18T13:34:13.401080",
     "status": "completed"
    },
    "tags": []
   },
   "outputs": [
    {
     "data": {
      "text/plain": [
       "'RGB'"
      ]
     },
     "execution_count": 5,
     "metadata": {},
     "output_type": "execute_result"
    }
   ],
   "source": [
    "# let's check the color channels in a randomly selected image...say the image with image_name 'train_10.jpg'\n",
    "train_img10 = image.load_img(\"/kaggle/input/planets-dataset/planet/planet/train-jpg/train_10.jpg\")\n",
    "train_img10.mode # checking the color channels "
   ]
  },
  {
   "cell_type": "code",
   "execution_count": 6,
   "metadata": {
    "execution": {
     "iopub.execute_input": "2020-09-18T13:34:13.585705Z",
     "iopub.status.busy": "2020-09-18T13:34:13.584754Z",
     "iopub.status.idle": "2020-09-18T13:34:14.758197Z",
     "shell.execute_reply": "2020-09-18T13:34:14.757569Z"
    },
    "papermill": {
     "duration": 1.227192,
     "end_time": "2020-09-18T13:34:14.758342",
     "exception": false,
     "start_time": "2020-09-18T13:34:13.531150",
     "status": "completed"
    },
    "tags": []
   },
   "outputs": [
    {
     "name": "stdout",
     "output_type": "stream",
     "text": [
      "40479\r\n"
     ]
    }
   ],
   "source": [
    "!ls \"/kaggle/input/planets-dataset/planet/planet/train-jpg/\" | wc -l # checking the total number of images in the\n",
    "                                                                     # training image folder"
   ]
  },
  {
   "cell_type": "code",
   "execution_count": 7,
   "metadata": {
    "execution": {
     "iopub.execute_input": "2020-09-18T13:34:14.862565Z",
     "iopub.status.busy": "2020-09-18T13:34:14.861639Z",
     "iopub.status.idle": "2020-09-18T13:34:15.329047Z",
     "shell.execute_reply": "2020-09-18T13:34:15.328444Z"
    },
    "papermill": {
     "duration": 0.521865,
     "end_time": "2020-09-18T13:34:15.329181",
     "exception": false,
     "start_time": "2020-09-18T13:34:14.807316",
     "status": "completed"
    },
    "tags": []
   },
   "outputs": [
    {
     "data": {
      "text/plain": [
       "40669.0"
      ]
     },
     "execution_count": 7,
     "metadata": {},
     "output_type": "execute_result"
    }
   ],
   "source": [
    "test1 = !ls \"/kaggle/input/planets-dataset/planet/planet/test-jpg/\" | wc -l # checking total number of images in \n",
    "                                                                            # testing images folder\n",
    "float(test1[0])"
   ]
  },
  {
   "cell_type": "code",
   "execution_count": 8,
   "metadata": {
    "execution": {
     "iopub.execute_input": "2020-09-18T13:34:15.434298Z",
     "iopub.status.busy": "2020-09-18T13:34:15.433359Z",
     "iopub.status.idle": "2020-09-18T13:34:15.764915Z",
     "shell.execute_reply": "2020-09-18T13:34:15.763882Z"
    },
    "papermill": {
     "duration": 0.3862,
     "end_time": "2020-09-18T13:34:15.765082",
     "exception": false,
     "start_time": "2020-09-18T13:34:15.378882",
     "status": "completed"
    },
    "tags": []
   },
   "outputs": [
    {
     "data": {
      "text/plain": [
       "20522.0"
      ]
     },
     "execution_count": 8,
     "metadata": {},
     "output_type": "execute_result"
    }
   ],
   "source": [
    "# checking total number of images in the testing images additional folder\n",
    "test_additional = !ls \"/kaggle/input/planets-dataset/test-jpg-additional/test-jpg-additional/\" | wc -l\n",
    "float(test_additional[0])"
   ]
  },
  {
   "cell_type": "code",
   "execution_count": 9,
   "metadata": {
    "execution": {
     "iopub.execute_input": "2020-09-18T13:34:15.871927Z",
     "iopub.status.busy": "2020-09-18T13:34:15.870738Z",
     "iopub.status.idle": "2020-09-18T13:34:15.947390Z",
     "shell.execute_reply": "2020-09-18T13:34:15.947984Z"
    },
    "papermill": {
     "duration": 0.133617,
     "end_time": "2020-09-18T13:34:15.948157",
     "exception": false,
     "start_time": "2020-09-18T13:34:15.814540",
     "status": "completed"
    },
    "tags": []
   },
   "outputs": [
    {
     "name": "stdout",
     "output_type": "stream",
     "text": [
      "(61191, 2)\n"
     ]
    },
    {
     "data": {
      "text/html": [
       "<div>\n",
       "<style scoped>\n",
       "    .dataframe tbody tr th:only-of-type {\n",
       "        vertical-align: middle;\n",
       "    }\n",
       "\n",
       "    .dataframe tbody tr th {\n",
       "        vertical-align: top;\n",
       "    }\n",
       "\n",
       "    .dataframe thead th {\n",
       "        text-align: right;\n",
       "    }\n",
       "</style>\n",
       "<table border=\"1\" class=\"dataframe\">\n",
       "  <thead>\n",
       "    <tr style=\"text-align: right;\">\n",
       "      <th></th>\n",
       "      <th>image_name</th>\n",
       "      <th>tags</th>\n",
       "    </tr>\n",
       "  </thead>\n",
       "  <tbody>\n",
       "    <tr>\n",
       "      <th>0</th>\n",
       "      <td>test_0</td>\n",
       "      <td>primary clear agriculture road water</td>\n",
       "    </tr>\n",
       "    <tr>\n",
       "      <th>1</th>\n",
       "      <td>test_1</td>\n",
       "      <td>primary clear agriculture road water</td>\n",
       "    </tr>\n",
       "    <tr>\n",
       "      <th>2</th>\n",
       "      <td>test_2</td>\n",
       "      <td>primary clear agriculture road water</td>\n",
       "    </tr>\n",
       "    <tr>\n",
       "      <th>3</th>\n",
       "      <td>test_3</td>\n",
       "      <td>primary clear agriculture road water</td>\n",
       "    </tr>\n",
       "    <tr>\n",
       "      <th>4</th>\n",
       "      <td>test_4</td>\n",
       "      <td>primary clear agriculture road water</td>\n",
       "    </tr>\n",
       "  </tbody>\n",
       "</table>\n",
       "</div>"
      ],
      "text/plain": [
       "  image_name                                  tags\n",
       "0     test_0  primary clear agriculture road water\n",
       "1     test_1  primary clear agriculture road water\n",
       "2     test_2  primary clear agriculture road water\n",
       "3     test_3  primary clear agriculture road water\n",
       "4     test_4  primary clear agriculture road water"
      ]
     },
     "execution_count": 9,
     "metadata": {},
     "output_type": "execute_result"
    }
   ],
   "source": [
    "# loading and checking the sample submission dataframe\n",
    "sample_submission = pd.read_csv(\"/kaggle/input/planets-dataset/planet/planet/sample_submission.csv\")\n",
    "print(sample_submission.shape)\n",
    "sample_submission.head()"
   ]
  },
  {
   "cell_type": "code",
   "execution_count": 10,
   "metadata": {
    "execution": {
     "iopub.execute_input": "2020-09-18T13:34:16.055965Z",
     "iopub.status.busy": "2020-09-18T13:34:16.054859Z",
     "iopub.status.idle": "2020-09-18T13:34:16.057439Z",
     "shell.execute_reply": "2020-09-18T13:34:16.058356Z"
    },
    "papermill": {
     "duration": 0.060357,
     "end_time": "2020-09-18T13:34:16.058514",
     "exception": false,
     "start_time": "2020-09-18T13:34:15.998157",
     "status": "completed"
    },
    "tags": []
   },
   "outputs": [],
   "source": [
    "# let's confirm that the sum of image files in the testing and testing-additional equals the number of images in\n",
    "# the sample submission dataframe\n",
    "assert sample_submission.shape[0] == float(test1[0]) + float(test_additional[0])"
   ]
  },
  {
   "cell_type": "markdown",
   "metadata": {
    "papermill": {
     "duration": 0.049839,
     "end_time": "2020-09-18T13:34:16.158618",
     "exception": false,
     "start_time": "2020-09-18T13:34:16.108779",
     "status": "completed"
    },
    "tags": []
   },
   "source": [
    "### Let's find the unique tags in ```train_classes``` data\n",
    "- First, we create a function that adds elements of a list to a Set\n",
    "- Secondly, we apply this function to the ```tags``` column of ```train_classes``` after splitting its values to a list"
   ]
  },
  {
   "cell_type": "code",
   "execution_count": 11,
   "metadata": {
    "execution": {
     "iopub.execute_input": "2020-09-18T13:34:16.269141Z",
     "iopub.status.busy": "2020-09-18T13:34:16.268100Z",
     "iopub.status.idle": "2020-09-18T13:34:16.325190Z",
     "shell.execute_reply": "2020-09-18T13:34:16.324584Z"
    },
    "papermill": {
     "duration": 0.11655,
     "end_time": "2020-09-18T13:34:16.325316",
     "exception": false,
     "start_time": "2020-09-18T13:34:16.208766",
     "status": "completed"
    },
    "tags": []
   },
   "outputs": [],
   "source": [
    "unique_labels = set()\n",
    "def append_labels(tags):\n",
    "    for tag in tags.split():\n",
    "        unique_labels.add(tag)\n",
    "\n",
    "train_classes = train_classes_df.copy()\n",
    "train_classes['tags'].apply(append_labels)\n",
    "unique_labels = list(unique_labels) # casting 'unique_labels' as a list because set isn't an\n",
    "                                    # indexed data structure"
   ]
  },
  {
   "cell_type": "code",
   "execution_count": 12,
   "metadata": {
    "execution": {
     "iopub.execute_input": "2020-09-18T13:34:16.432416Z",
     "iopub.status.busy": "2020-09-18T13:34:16.431254Z",
     "iopub.status.idle": "2020-09-18T13:34:16.437349Z",
     "shell.execute_reply": "2020-09-18T13:34:16.438122Z"
    },
    "papermill": {
     "duration": 0.062764,
     "end_time": "2020-09-18T13:34:16.438312",
     "exception": false,
     "start_time": "2020-09-18T13:34:16.375548",
     "status": "completed"
    },
    "tags": []
   },
   "outputs": [
    {
     "name": "stdout",
     "output_type": "stream",
     "text": [
      "['agriculture', 'habitation', 'primary', 'bare_ground', 'cloudy', 'partly_cloudy', 'selective_logging', 'blow_down', 'artisinal_mine', 'conventional_mine', 'road', 'haze', 'water', 'cultivation', 'clear', 'blooming', 'slash_burn']\n"
     ]
    },
    {
     "data": {
      "text/plain": [
       "17"
      ]
     },
     "execution_count": 12,
     "metadata": {},
     "output_type": "execute_result"
    }
   ],
   "source": [
    "print(unique_labels)\n",
    "len(unique_labels)"
   ]
  },
  {
   "cell_type": "markdown",
   "metadata": {
    "papermill": {
     "duration": 0.051081,
     "end_time": "2020-09-18T13:34:16.540627",
     "exception": false,
     "start_time": "2020-09-18T13:34:16.489546",
     "status": "completed"
    },
    "tags": []
   },
   "source": [
    "### Let's vectorize (one hot encode) the ```tags``` in ```train_classes``` using ```unique_labels``` "
   ]
  },
  {
   "cell_type": "code",
   "execution_count": 13,
   "metadata": {
    "execution": {
     "iopub.execute_input": "2020-09-18T13:34:16.654620Z",
     "iopub.status.busy": "2020-09-18T13:34:16.653615Z",
     "iopub.status.idle": "2020-09-18T13:34:16.661798Z",
     "shell.execute_reply": "2020-09-18T13:34:16.661231Z"
    },
    "papermill": {
     "duration": 0.069211,
     "end_time": "2020-09-18T13:34:16.661921",
     "exception": false,
     "start_time": "2020-09-18T13:34:16.592710",
     "status": "completed"
    },
    "tags": []
   },
   "outputs": [],
   "source": [
    "# let's confirm that there is no image_name duplicate in the 'train_classes' dataframe\n",
    "assert len(train_classes['image_name'].unique()) == train_classes.shape[0]"
   ]
  },
  {
   "cell_type": "code",
   "execution_count": 14,
   "metadata": {
    "execution": {
     "iopub.execute_input": "2020-09-18T13:34:16.772334Z",
     "iopub.status.busy": "2020-09-18T13:34:16.771348Z",
     "iopub.status.idle": "2020-09-18T13:34:17.556143Z",
     "shell.execute_reply": "2020-09-18T13:34:17.557057Z"
    },
    "papermill": {
     "duration": 0.843839,
     "end_time": "2020-09-18T13:34:17.557221",
     "exception": false,
     "start_time": "2020-09-18T13:34:16.713382",
     "status": "completed"
    },
    "tags": []
   },
   "outputs": [
    {
     "data": {
      "text/html": [
       "<div>\n",
       "<style scoped>\n",
       "    .dataframe tbody tr th:only-of-type {\n",
       "        vertical-align: middle;\n",
       "    }\n",
       "\n",
       "    .dataframe tbody tr th {\n",
       "        vertical-align: top;\n",
       "    }\n",
       "\n",
       "    .dataframe thead th {\n",
       "        text-align: right;\n",
       "    }\n",
       "</style>\n",
       "<table border=\"1\" class=\"dataframe\">\n",
       "  <thead>\n",
       "    <tr style=\"text-align: right;\">\n",
       "      <th></th>\n",
       "      <th>image_name</th>\n",
       "      <th>tags</th>\n",
       "      <th>agriculture</th>\n",
       "      <th>habitation</th>\n",
       "      <th>primary</th>\n",
       "      <th>bare_ground</th>\n",
       "      <th>cloudy</th>\n",
       "      <th>partly_cloudy</th>\n",
       "      <th>selective_logging</th>\n",
       "      <th>blow_down</th>\n",
       "      <th>artisinal_mine</th>\n",
       "      <th>conventional_mine</th>\n",
       "      <th>road</th>\n",
       "      <th>haze</th>\n",
       "      <th>water</th>\n",
       "      <th>cultivation</th>\n",
       "      <th>clear</th>\n",
       "      <th>blooming</th>\n",
       "      <th>slash_burn</th>\n",
       "    </tr>\n",
       "  </thead>\n",
       "  <tbody>\n",
       "    <tr>\n",
       "      <th>0</th>\n",
       "      <td>train_0.jpg</td>\n",
       "      <td>haze primary</td>\n",
       "      <td>0</td>\n",
       "      <td>0</td>\n",
       "      <td>1</td>\n",
       "      <td>0</td>\n",
       "      <td>0</td>\n",
       "      <td>0</td>\n",
       "      <td>0</td>\n",
       "      <td>0</td>\n",
       "      <td>0</td>\n",
       "      <td>0</td>\n",
       "      <td>0</td>\n",
       "      <td>1</td>\n",
       "      <td>0</td>\n",
       "      <td>0</td>\n",
       "      <td>0</td>\n",
       "      <td>0</td>\n",
       "      <td>0</td>\n",
       "    </tr>\n",
       "    <tr>\n",
       "      <th>1</th>\n",
       "      <td>train_1.jpg</td>\n",
       "      <td>agriculture clear primary water</td>\n",
       "      <td>1</td>\n",
       "      <td>0</td>\n",
       "      <td>1</td>\n",
       "      <td>0</td>\n",
       "      <td>0</td>\n",
       "      <td>0</td>\n",
       "      <td>0</td>\n",
       "      <td>0</td>\n",
       "      <td>0</td>\n",
       "      <td>0</td>\n",
       "      <td>0</td>\n",
       "      <td>0</td>\n",
       "      <td>1</td>\n",
       "      <td>0</td>\n",
       "      <td>1</td>\n",
       "      <td>0</td>\n",
       "      <td>0</td>\n",
       "    </tr>\n",
       "    <tr>\n",
       "      <th>2</th>\n",
       "      <td>train_2.jpg</td>\n",
       "      <td>clear primary</td>\n",
       "      <td>0</td>\n",
       "      <td>0</td>\n",
       "      <td>1</td>\n",
       "      <td>0</td>\n",
       "      <td>0</td>\n",
       "      <td>0</td>\n",
       "      <td>0</td>\n",
       "      <td>0</td>\n",
       "      <td>0</td>\n",
       "      <td>0</td>\n",
       "      <td>0</td>\n",
       "      <td>0</td>\n",
       "      <td>0</td>\n",
       "      <td>0</td>\n",
       "      <td>1</td>\n",
       "      <td>0</td>\n",
       "      <td>0</td>\n",
       "    </tr>\n",
       "    <tr>\n",
       "      <th>3</th>\n",
       "      <td>train_3.jpg</td>\n",
       "      <td>clear primary</td>\n",
       "      <td>0</td>\n",
       "      <td>0</td>\n",
       "      <td>1</td>\n",
       "      <td>0</td>\n",
       "      <td>0</td>\n",
       "      <td>0</td>\n",
       "      <td>0</td>\n",
       "      <td>0</td>\n",
       "      <td>0</td>\n",
       "      <td>0</td>\n",
       "      <td>0</td>\n",
       "      <td>0</td>\n",
       "      <td>0</td>\n",
       "      <td>0</td>\n",
       "      <td>1</td>\n",
       "      <td>0</td>\n",
       "      <td>0</td>\n",
       "    </tr>\n",
       "    <tr>\n",
       "      <th>4</th>\n",
       "      <td>train_4.jpg</td>\n",
       "      <td>agriculture clear habitation primary road</td>\n",
       "      <td>1</td>\n",
       "      <td>1</td>\n",
       "      <td>1</td>\n",
       "      <td>0</td>\n",
       "      <td>0</td>\n",
       "      <td>0</td>\n",
       "      <td>0</td>\n",
       "      <td>0</td>\n",
       "      <td>0</td>\n",
       "      <td>0</td>\n",
       "      <td>1</td>\n",
       "      <td>0</td>\n",
       "      <td>0</td>\n",
       "      <td>0</td>\n",
       "      <td>1</td>\n",
       "      <td>0</td>\n",
       "      <td>0</td>\n",
       "    </tr>\n",
       "  </tbody>\n",
       "</table>\n",
       "</div>"
      ],
      "text/plain": [
       "    image_name                                       tags  agriculture  \\\n",
       "0  train_0.jpg                               haze primary            0   \n",
       "1  train_1.jpg            agriculture clear primary water            1   \n",
       "2  train_2.jpg                              clear primary            0   \n",
       "3  train_3.jpg                              clear primary            0   \n",
       "4  train_4.jpg  agriculture clear habitation primary road            1   \n",
       "\n",
       "   habitation  primary  bare_ground  cloudy  partly_cloudy  selective_logging  \\\n",
       "0           0        1            0       0              0                  0   \n",
       "1           0        1            0       0              0                  0   \n",
       "2           0        1            0       0              0                  0   \n",
       "3           0        1            0       0              0                  0   \n",
       "4           1        1            0       0              0                  0   \n",
       "\n",
       "   blow_down  artisinal_mine  conventional_mine  road  haze  water  \\\n",
       "0          0               0                  0     0     1      0   \n",
       "1          0               0                  0     0     0      1   \n",
       "2          0               0                  0     0     0      0   \n",
       "3          0               0                  0     0     0      0   \n",
       "4          0               0                  0     1     0      0   \n",
       "\n",
       "   cultivation  clear  blooming  slash_burn  \n",
       "0            0      0         0           0  \n",
       "1            0      1         0           0  \n",
       "2            0      1         0           0  \n",
       "3            0      1         0           0  \n",
       "4            0      1         0           0  "
      ]
     },
     "execution_count": 14,
     "metadata": {},
     "output_type": "execute_result"
    }
   ],
   "source": [
    "# let's do one hot encoding (vectorize) the labels in 'train_classes'\n",
    "for tag in unique_labels:\n",
    "    train_classes[tag] = train_classes['tags'].apply(lambda x: 1 if tag in x.split() else 0)\n",
    "    \n",
    "# adding '.jpg' extension to 'image_name'\n",
    "train_classes['image_name'] = train_classes['image_name'].apply(lambda x: '{}.jpg'.format(x)) \n",
    "train_classes.head()"
   ]
  },
  {
   "cell_type": "code",
   "execution_count": 15,
   "metadata": {
    "execution": {
     "iopub.execute_input": "2020-09-18T13:34:17.671781Z",
     "iopub.status.busy": "2020-09-18T13:34:17.670616Z",
     "iopub.status.idle": "2020-09-18T13:34:17.978960Z",
     "shell.execute_reply": "2020-09-18T13:34:17.979585Z"
    },
    "papermill": {
     "duration": 0.369186,
     "end_time": "2020-09-18T13:34:17.979759",
     "exception": false,
     "start_time": "2020-09-18T13:34:17.610573",
     "status": "completed"
    },
    "tags": []
   },
   "outputs": [
    {
     "data": {
      "text/plain": [
       "<matplotlib.axes._subplots.AxesSubplot at 0x7f75ee0e5b90>"
      ]
     },
     "execution_count": 15,
     "metadata": {},
     "output_type": "execute_result"
    },
    {
     "data": {
      "image/png": "[encoded data removed]",
      "text/plain": [
       "<Figure size 432x288 with 1 Axes>"
      ]
     },
     "metadata": {
      "needs_background": "light"
     },
     "output_type": "display_data"
    }
   ],
   "source": [
    "train_classes[unique_labels].sum().sort_values().plot.bar() # an histogram of the number of tags"
   ]
  },
  {
   "cell_type": "code",
   "execution_count": 16,
   "metadata": {
    "execution": {
     "iopub.execute_input": "2020-09-18T13:34:18.104742Z",
     "iopub.status.busy": "2020-09-18T13:34:18.103815Z",
     "iopub.status.idle": "2020-09-18T13:34:18.108249Z",
     "shell.execute_reply": "2020-09-18T13:34:18.107659Z"
    },
    "papermill": {
     "duration": 0.067545,
     "end_time": "2020-09-18T13:34:18.108378",
     "exception": false,
     "start_time": "2020-09-18T13:34:18.040833",
     "status": "completed"
    },
    "tags": []
   },
   "outputs": [],
   "source": [
    "# creating a function that generates a concurrent matrix (a matrix that contains the number of overlaps of pairs\n",
    "# of tags)\n",
    "def get_concurrent_matrix(tags):\n",
    "    concur_df = train_classes[tags]\n",
    "    concur_matrix = concur_df.T.dot(concur_df)\n",
    "    mask = np.triu(np.ones((len(tags), len(tags))))\n",
    "    sns.heatmap(concur_matrix, cmap=sns.cm.rocket_r, mask=mask)\n",
    "    \n",
    "    return concur_matrix"
   ]
  },
  {
   "cell_type": "code",
   "execution_count": 17,
   "metadata": {
    "execution": {
     "iopub.execute_input": "2020-09-18T13:34:18.225396Z",
     "iopub.status.busy": "2020-09-18T13:34:18.224527Z",
     "iopub.status.idle": "2020-09-18T13:34:18.228620Z",
     "shell.execute_reply": "2020-09-18T13:34:18.229174Z"
    },
    "papermill": {
     "duration": 0.066161,
     "end_time": "2020-09-18T13:34:18.229320",
     "exception": false,
     "start_time": "2020-09-18T13:34:18.163159",
     "status": "completed"
    },
    "tags": []
   },
   "outputs": [],
   "source": [
    "# classifying the tags into the three categories of 'atmospheric condition', 'common land cover' and \n",
    "# 'rare land cover'\n",
    "atm_condition_tags = ['clear', 'partly_cloudy','cloudy', 'haze']\n",
    "common_land_cover_tags = ['primary', 'water', 'habitation', 'agriculture', 'road', 'cultivation', 'bare_ground']\n",
    "rare_land_cover_tags = [tag for tag in unique_labels if (tag not in atm_condition_tags) and (tag not in \\\n",
    "                                                                                        common_land_cover_tags)]"
   ]
  },
  {
   "cell_type": "code",
   "execution_count": 18,
   "metadata": {
    "execution": {
     "iopub.execute_input": "2020-09-18T13:34:18.346529Z",
     "iopub.status.busy": "2020-09-18T13:34:18.345795Z",
     "iopub.status.idle": "2020-09-18T13:34:18.574632Z",
     "shell.execute_reply": "2020-09-18T13:34:18.575257Z"
    },
    "papermill": {
     "duration": 0.291075,
     "end_time": "2020-09-18T13:34:18.575425",
     "exception": false,
     "start_time": "2020-09-18T13:34:18.284350",
     "status": "completed"
    },
    "tags": []
   },
   "outputs": [
    {
     "data": {
      "text/html": [
       "<div>\n",
       "<style scoped>\n",
       "    .dataframe tbody tr th:only-of-type {\n",
       "        vertical-align: middle;\n",
       "    }\n",
       "\n",
       "    .dataframe tbody tr th {\n",
       "        vertical-align: top;\n",
       "    }\n",
       "\n",
       "    .dataframe thead th {\n",
       "        text-align: right;\n",
       "    }\n",
       "</style>\n",
       "<table border=\"1\" class=\"dataframe\">\n",
       "  <thead>\n",
       "    <tr style=\"text-align: right;\">\n",
       "      <th></th>\n",
       "      <th>clear</th>\n",
       "      <th>partly_cloudy</th>\n",
       "      <th>cloudy</th>\n",
       "      <th>haze</th>\n",
       "    </tr>\n",
       "  </thead>\n",
       "  <tbody>\n",
       "    <tr>\n",
       "      <th>clear</th>\n",
       "      <td>28431</td>\n",
       "      <td>0</td>\n",
       "      <td>0</td>\n",
       "      <td>0</td>\n",
       "    </tr>\n",
       "    <tr>\n",
       "      <th>partly_cloudy</th>\n",
       "      <td>0</td>\n",
       "      <td>7261</td>\n",
       "      <td>0</td>\n",
       "      <td>0</td>\n",
       "    </tr>\n",
       "    <tr>\n",
       "      <th>cloudy</th>\n",
       "      <td>0</td>\n",
       "      <td>0</td>\n",
       "      <td>2089</td>\n",
       "      <td>0</td>\n",
       "    </tr>\n",
       "    <tr>\n",
       "      <th>haze</th>\n",
       "      <td>0</td>\n",
       "      <td>0</td>\n",
       "      <td>0</td>\n",
       "      <td>2697</td>\n",
       "    </tr>\n",
       "  </tbody>\n",
       "</table>\n",
       "</div>"
      ],
      "text/plain": [
       "               clear  partly_cloudy  cloudy  haze\n",
       "clear          28431              0       0     0\n",
       "partly_cloudy      0           7261       0     0\n",
       "cloudy             0              0    2089     0\n",
       "haze               0              0       0  2697"
      ]
     },
     "execution_count": 18,
     "metadata": {},
     "output_type": "execute_result"
    },
    {
     "data": {
      "image/png": "[encoded data removed]",
      "text/plain": [
       "<Figure size 432x288 with 2 Axes>"
      ]
     },
     "metadata": {
      "needs_background": "light"
     },
     "output_type": "display_data"
    }
   ],
   "source": [
    "# concurrent matrix of atmospheric condition tags\n",
    "atm_tags_concurrent_matrix = get_concurrent_matrix(atm_condition_tags) \n",
    "atm_tags_concurrent_matrix"
   ]
  },
  {
   "cell_type": "markdown",
   "metadata": {
    "papermill": {
     "duration": 0.056065,
     "end_time": "2020-09-18T13:34:18.694091",
     "exception": false,
     "start_time": "2020-09-18T13:34:18.638026",
     "status": "completed"
    },
    "tags": []
   },
   "source": [
    "No overlap in atmospheric condition"
   ]
  },
  {
   "cell_type": "code",
   "execution_count": 19,
   "metadata": {
    "execution": {
     "iopub.execute_input": "2020-09-18T13:34:18.814395Z",
     "iopub.status.busy": "2020-09-18T13:34:18.813315Z",
     "iopub.status.idle": "2020-09-18T13:34:19.086272Z",
     "shell.execute_reply": "2020-09-18T13:34:19.086833Z"
    },
    "papermill": {
     "duration": 0.337294,
     "end_time": "2020-09-18T13:34:19.087003",
     "exception": false,
     "start_time": "2020-09-18T13:34:18.749709",
     "status": "completed"
    },
    "tags": []
   },
   "outputs": [
    {
     "data": {
      "text/html": [
       "<div>\n",
       "<style scoped>\n",
       "    .dataframe tbody tr th:only-of-type {\n",
       "        vertical-align: middle;\n",
       "    }\n",
       "\n",
       "    .dataframe tbody tr th {\n",
       "        vertical-align: top;\n",
       "    }\n",
       "\n",
       "    .dataframe thead th {\n",
       "        text-align: right;\n",
       "    }\n",
       "</style>\n",
       "<table border=\"1\" class=\"dataframe\">\n",
       "  <thead>\n",
       "    <tr style=\"text-align: right;\">\n",
       "      <th></th>\n",
       "      <th>primary</th>\n",
       "      <th>water</th>\n",
       "      <th>habitation</th>\n",
       "      <th>agriculture</th>\n",
       "      <th>road</th>\n",
       "      <th>cultivation</th>\n",
       "      <th>bare_ground</th>\n",
       "    </tr>\n",
       "  </thead>\n",
       "  <tbody>\n",
       "    <tr>\n",
       "      <th>primary</th>\n",
       "      <td>37513</td>\n",
       "      <td>7001</td>\n",
       "      <td>3469</td>\n",
       "      <td>11972</td>\n",
       "      <td>7728</td>\n",
       "      <td>4455</td>\n",
       "      <td>683</td>\n",
       "    </tr>\n",
       "    <tr>\n",
       "      <th>water</th>\n",
       "      <td>7001</td>\n",
       "      <td>7411</td>\n",
       "      <td>915</td>\n",
       "      <td>2712</td>\n",
       "      <td>2125</td>\n",
       "      <td>868</td>\n",
       "      <td>206</td>\n",
       "    </tr>\n",
       "    <tr>\n",
       "      <th>habitation</th>\n",
       "      <td>3469</td>\n",
       "      <td>915</td>\n",
       "      <td>3660</td>\n",
       "      <td>2737</td>\n",
       "      <td>2786</td>\n",
       "      <td>895</td>\n",
       "      <td>163</td>\n",
       "    </tr>\n",
       "    <tr>\n",
       "      <th>agriculture</th>\n",
       "      <td>11972</td>\n",
       "      <td>2712</td>\n",
       "      <td>2737</td>\n",
       "      <td>12315</td>\n",
       "      <td>6034</td>\n",
       "      <td>3377</td>\n",
       "      <td>225</td>\n",
       "    </tr>\n",
       "    <tr>\n",
       "      <th>road</th>\n",
       "      <td>7728</td>\n",
       "      <td>2125</td>\n",
       "      <td>2786</td>\n",
       "      <td>6034</td>\n",
       "      <td>8071</td>\n",
       "      <td>1294</td>\n",
       "      <td>323</td>\n",
       "    </tr>\n",
       "    <tr>\n",
       "      <th>cultivation</th>\n",
       "      <td>4455</td>\n",
       "      <td>868</td>\n",
       "      <td>895</td>\n",
       "      <td>3377</td>\n",
       "      <td>1294</td>\n",
       "      <td>4477</td>\n",
       "      <td>89</td>\n",
       "    </tr>\n",
       "    <tr>\n",
       "      <th>bare_ground</th>\n",
       "      <td>683</td>\n",
       "      <td>206</td>\n",
       "      <td>163</td>\n",
       "      <td>225</td>\n",
       "      <td>323</td>\n",
       "      <td>89</td>\n",
       "      <td>862</td>\n",
       "    </tr>\n",
       "  </tbody>\n",
       "</table>\n",
       "</div>"
      ],
      "text/plain": [
       "             primary  water  habitation  agriculture  road  cultivation  \\\n",
       "primary        37513   7001        3469        11972  7728         4455   \n",
       "water           7001   7411         915         2712  2125          868   \n",
       "habitation      3469    915        3660         2737  2786          895   \n",
       "agriculture    11972   2712        2737        12315  6034         3377   \n",
       "road            7728   2125        2786         6034  8071         1294   \n",
       "cultivation     4455    868         895         3377  1294         4477   \n",
       "bare_ground      683    206         163          225   323           89   \n",
       "\n",
       "             bare_ground  \n",
       "primary              683  \n",
       "water                206  \n",
       "habitation           163  \n",
       "agriculture          225  \n",
       "road                 323  \n",
       "cultivation           89  \n",
       "bare_ground          862  "
      ]
     },
     "execution_count": 19,
     "metadata": {},
     "output_type": "execute_result"
    },
    {
     "data": {
      "image/png": "[encoded data removed]",
      "text/plain": [
       "<Figure size 432x288 with 2 Axes>"
      ]
     },
     "metadata": {
      "needs_background": "light"
     },
     "output_type": "display_data"
    }
   ],
   "source": [
    "get_concurrent_matrix(common_land_cover_tags) # concurrent matrix of common land cover tags"
   ]
  },
  {
   "cell_type": "markdown",
   "metadata": {
    "papermill": {
     "duration": 0.057412,
     "end_time": "2020-09-18T13:34:19.200984",
     "exception": false,
     "start_time": "2020-09-18T13:34:19.143572",
     "status": "completed"
    },
    "tags": []
   },
   "source": [
    "```'primary'``` and ```'agriculture'``` seems to have the most overlap amongst ```common_land_cover_tags```"
   ]
  },
  {
   "cell_type": "code",
   "execution_count": 20,
   "metadata": {
    "execution": {
     "iopub.execute_input": "2020-09-18T13:34:19.325270Z",
     "iopub.status.busy": "2020-09-18T13:34:19.324266Z",
     "iopub.status.idle": "2020-09-18T13:34:19.586284Z",
     "shell.execute_reply": "2020-09-18T13:34:19.586951Z"
    },
    "papermill": {
     "duration": 0.32751,
     "end_time": "2020-09-18T13:34:19.587117",
     "exception": false,
     "start_time": "2020-09-18T13:34:19.259607",
     "status": "completed"
    },
    "tags": []
   },
   "outputs": [
    {
     "data": {
      "text/html": [
       "<div>\n",
       "<style scoped>\n",
       "    .dataframe tbody tr th:only-of-type {\n",
       "        vertical-align: middle;\n",
       "    }\n",
       "\n",
       "    .dataframe tbody tr th {\n",
       "        vertical-align: top;\n",
       "    }\n",
       "\n",
       "    .dataframe thead th {\n",
       "        text-align: right;\n",
       "    }\n",
       "</style>\n",
       "<table border=\"1\" class=\"dataframe\">\n",
       "  <thead>\n",
       "    <tr style=\"text-align: right;\">\n",
       "      <th></th>\n",
       "      <th>selective_logging</th>\n",
       "      <th>blow_down</th>\n",
       "      <th>artisinal_mine</th>\n",
       "      <th>conventional_mine</th>\n",
       "      <th>blooming</th>\n",
       "      <th>slash_burn</th>\n",
       "    </tr>\n",
       "  </thead>\n",
       "  <tbody>\n",
       "    <tr>\n",
       "      <th>selective_logging</th>\n",
       "      <td>340</td>\n",
       "      <td>1</td>\n",
       "      <td>6</td>\n",
       "      <td>0</td>\n",
       "      <td>7</td>\n",
       "      <td>2</td>\n",
       "    </tr>\n",
       "    <tr>\n",
       "      <th>blow_down</th>\n",
       "      <td>1</td>\n",
       "      <td>98</td>\n",
       "      <td>0</td>\n",
       "      <td>0</td>\n",
       "      <td>1</td>\n",
       "      <td>2</td>\n",
       "    </tr>\n",
       "    <tr>\n",
       "      <th>artisinal_mine</th>\n",
       "      <td>6</td>\n",
       "      <td>0</td>\n",
       "      <td>339</td>\n",
       "      <td>4</td>\n",
       "      <td>0</td>\n",
       "      <td>0</td>\n",
       "    </tr>\n",
       "    <tr>\n",
       "      <th>conventional_mine</th>\n",
       "      <td>0</td>\n",
       "      <td>0</td>\n",
       "      <td>4</td>\n",
       "      <td>100</td>\n",
       "      <td>0</td>\n",
       "      <td>0</td>\n",
       "    </tr>\n",
       "    <tr>\n",
       "      <th>blooming</th>\n",
       "      <td>7</td>\n",
       "      <td>1</td>\n",
       "      <td>0</td>\n",
       "      <td>0</td>\n",
       "      <td>332</td>\n",
       "      <td>2</td>\n",
       "    </tr>\n",
       "    <tr>\n",
       "      <th>slash_burn</th>\n",
       "      <td>2</td>\n",
       "      <td>2</td>\n",
       "      <td>0</td>\n",
       "      <td>0</td>\n",
       "      <td>2</td>\n",
       "      <td>209</td>\n",
       "    </tr>\n",
       "  </tbody>\n",
       "</table>\n",
       "</div>"
      ],
      "text/plain": [
       "                   selective_logging  blow_down  artisinal_mine  \\\n",
       "selective_logging                340          1               6   \n",
       "blow_down                          1         98               0   \n",
       "artisinal_mine                     6          0             339   \n",
       "conventional_mine                  0          0               4   \n",
       "blooming                           7          1               0   \n",
       "slash_burn                         2          2               0   \n",
       "\n",
       "                   conventional_mine  blooming  slash_burn  \n",
       "selective_logging                  0         7           2  \n",
       "blow_down                          0         1           2  \n",
       "artisinal_mine                     4         0           0  \n",
       "conventional_mine                100         0           0  \n",
       "blooming                           0       332           2  \n",
       "slash_burn                         0         2         209  "
      ]
     },
     "execution_count": 20,
     "metadata": {},
     "output_type": "execute_result"
    },
    {
     "data": {
      "image/png": "[encoded data removed]",
      "text/plain": [
       "<Figure size 432x288 with 2 Axes>"
      ]
     },
     "metadata": {
      "needs_background": "light"
     },
     "output_type": "display_data"
    }
   ],
   "source": [
    "get_concurrent_matrix(rare_land_cover_tags) # concurrent matrix of rare land cover"
   ]
  },
  {
   "cell_type": "markdown",
   "metadata": {
    "papermill": {
     "duration": 0.06677,
     "end_time": "2020-09-18T13:34:19.720817",
     "exception": false,
     "start_time": "2020-09-18T13:34:19.654047",
     "status": "completed"
    },
    "tags": []
   },
   "source": [
    "Fairly overlaps but ```'selective_logging'``` and ```'blooming'``` seems to have the most overlap amongst ```'rare_land_cover_tags'``` "
   ]
  },
  {
   "cell_type": "code",
   "execution_count": 21,
   "metadata": {
    "execution": {
     "iopub.execute_input": "2020-09-18T13:34:19.866428Z",
     "iopub.status.busy": "2020-09-18T13:34:19.865358Z",
     "iopub.status.idle": "2020-09-18T13:34:20.297365Z",
     "shell.execute_reply": "2020-09-18T13:34:20.298022Z"
    },
    "papermill": {
     "duration": 0.510199,
     "end_time": "2020-09-18T13:34:20.298205",
     "exception": false,
     "start_time": "2020-09-18T13:34:19.788006",
     "status": "completed"
    },
    "tags": []
   },
   "outputs": [
    {
     "data": {
      "text/html": [
       "<div>\n",
       "<style scoped>\n",
       "    .dataframe tbody tr th:only-of-type {\n",
       "        vertical-align: middle;\n",
       "    }\n",
       "\n",
       "    .dataframe tbody tr th {\n",
       "        vertical-align: top;\n",
       "    }\n",
       "\n",
       "    .dataframe thead th {\n",
       "        text-align: right;\n",
       "    }\n",
       "</style>\n",
       "<table border=\"1\" class=\"dataframe\">\n",
       "  <thead>\n",
       "    <tr style=\"text-align: right;\">\n",
       "      <th></th>\n",
       "      <th>agriculture</th>\n",
       "      <th>habitation</th>\n",
       "      <th>primary</th>\n",
       "      <th>bare_ground</th>\n",
       "      <th>cloudy</th>\n",
       "      <th>partly_cloudy</th>\n",
       "      <th>selective_logging</th>\n",
       "      <th>blow_down</th>\n",
       "      <th>artisinal_mine</th>\n",
       "      <th>conventional_mine</th>\n",
       "      <th>road</th>\n",
       "      <th>haze</th>\n",
       "      <th>water</th>\n",
       "      <th>cultivation</th>\n",
       "      <th>clear</th>\n",
       "      <th>blooming</th>\n",
       "      <th>slash_burn</th>\n",
       "    </tr>\n",
       "  </thead>\n",
       "  <tbody>\n",
       "    <tr>\n",
       "      <th>agriculture</th>\n",
       "      <td>12315</td>\n",
       "      <td>2737</td>\n",
       "      <td>11972</td>\n",
       "      <td>225</td>\n",
       "      <td>0</td>\n",
       "      <td>2493</td>\n",
       "      <td>65</td>\n",
       "      <td>22</td>\n",
       "      <td>38</td>\n",
       "      <td>24</td>\n",
       "      <td>6034</td>\n",
       "      <td>672</td>\n",
       "      <td>2712</td>\n",
       "      <td>3377</td>\n",
       "      <td>9150</td>\n",
       "      <td>32</td>\n",
       "      <td>119</td>\n",
       "    </tr>\n",
       "    <tr>\n",
       "      <th>habitation</th>\n",
       "      <td>2737</td>\n",
       "      <td>3660</td>\n",
       "      <td>3469</td>\n",
       "      <td>163</td>\n",
       "      <td>0</td>\n",
       "      <td>441</td>\n",
       "      <td>13</td>\n",
       "      <td>3</td>\n",
       "      <td>29</td>\n",
       "      <td>36</td>\n",
       "      <td>2786</td>\n",
       "      <td>129</td>\n",
       "      <td>915</td>\n",
       "      <td>895</td>\n",
       "      <td>3090</td>\n",
       "      <td>4</td>\n",
       "      <td>41</td>\n",
       "    </tr>\n",
       "    <tr>\n",
       "      <th>primary</th>\n",
       "      <td>11972</td>\n",
       "      <td>3469</td>\n",
       "      <td>37513</td>\n",
       "      <td>683</td>\n",
       "      <td>0</td>\n",
       "      <td>7175</td>\n",
       "      <td>340</td>\n",
       "      <td>98</td>\n",
       "      <td>324</td>\n",
       "      <td>94</td>\n",
       "      <td>7728</td>\n",
       "      <td>2670</td>\n",
       "      <td>7001</td>\n",
       "      <td>4455</td>\n",
       "      <td>27668</td>\n",
       "      <td>332</td>\n",
       "      <td>209</td>\n",
       "    </tr>\n",
       "    <tr>\n",
       "      <th>bare_ground</th>\n",
       "      <td>225</td>\n",
       "      <td>163</td>\n",
       "      <td>683</td>\n",
       "      <td>862</td>\n",
       "      <td>0</td>\n",
       "      <td>74</td>\n",
       "      <td>13</td>\n",
       "      <td>4</td>\n",
       "      <td>40</td>\n",
       "      <td>10</td>\n",
       "      <td>323</td>\n",
       "      <td>41</td>\n",
       "      <td>206</td>\n",
       "      <td>89</td>\n",
       "      <td>747</td>\n",
       "      <td>3</td>\n",
       "      <td>10</td>\n",
       "    </tr>\n",
       "    <tr>\n",
       "      <th>cloudy</th>\n",
       "      <td>0</td>\n",
       "      <td>0</td>\n",
       "      <td>0</td>\n",
       "      <td>0</td>\n",
       "      <td>2089</td>\n",
       "      <td>0</td>\n",
       "      <td>0</td>\n",
       "      <td>0</td>\n",
       "      <td>0</td>\n",
       "      <td>0</td>\n",
       "      <td>0</td>\n",
       "      <td>0</td>\n",
       "      <td>0</td>\n",
       "      <td>0</td>\n",
       "      <td>0</td>\n",
       "      <td>0</td>\n",
       "      <td>0</td>\n",
       "    </tr>\n",
       "    <tr>\n",
       "      <th>partly_cloudy</th>\n",
       "      <td>2493</td>\n",
       "      <td>441</td>\n",
       "      <td>7175</td>\n",
       "      <td>74</td>\n",
       "      <td>0</td>\n",
       "      <td>7261</td>\n",
       "      <td>27</td>\n",
       "      <td>13</td>\n",
       "      <td>27</td>\n",
       "      <td>28</td>\n",
       "      <td>1382</td>\n",
       "      <td>0</td>\n",
       "      <td>1295</td>\n",
       "      <td>748</td>\n",
       "      <td>0</td>\n",
       "      <td>17</td>\n",
       "      <td>33</td>\n",
       "    </tr>\n",
       "    <tr>\n",
       "      <th>selective_logging</th>\n",
       "      <td>65</td>\n",
       "      <td>13</td>\n",
       "      <td>340</td>\n",
       "      <td>13</td>\n",
       "      <td>0</td>\n",
       "      <td>27</td>\n",
       "      <td>340</td>\n",
       "      <td>1</td>\n",
       "      <td>6</td>\n",
       "      <td>0</td>\n",
       "      <td>151</td>\n",
       "      <td>5</td>\n",
       "      <td>49</td>\n",
       "      <td>58</td>\n",
       "      <td>308</td>\n",
       "      <td>7</td>\n",
       "      <td>2</td>\n",
       "    </tr>\n",
       "    <tr>\n",
       "      <th>blow_down</th>\n",
       "      <td>22</td>\n",
       "      <td>3</td>\n",
       "      <td>98</td>\n",
       "      <td>4</td>\n",
       "      <td>0</td>\n",
       "      <td>13</td>\n",
       "      <td>1</td>\n",
       "      <td>98</td>\n",
       "      <td>0</td>\n",
       "      <td>0</td>\n",
       "      <td>2</td>\n",
       "      <td>0</td>\n",
       "      <td>3</td>\n",
       "      <td>8</td>\n",
       "      <td>85</td>\n",
       "      <td>1</td>\n",
       "      <td>2</td>\n",
       "    </tr>\n",
       "    <tr>\n",
       "      <th>artisinal_mine</th>\n",
       "      <td>38</td>\n",
       "      <td>29</td>\n",
       "      <td>324</td>\n",
       "      <td>40</td>\n",
       "      <td>0</td>\n",
       "      <td>27</td>\n",
       "      <td>6</td>\n",
       "      <td>0</td>\n",
       "      <td>339</td>\n",
       "      <td>4</td>\n",
       "      <td>110</td>\n",
       "      <td>5</td>\n",
       "      <td>299</td>\n",
       "      <td>18</td>\n",
       "      <td>307</td>\n",
       "      <td>0</td>\n",
       "      <td>0</td>\n",
       "    </tr>\n",
       "    <tr>\n",
       "      <th>conventional_mine</th>\n",
       "      <td>24</td>\n",
       "      <td>36</td>\n",
       "      <td>94</td>\n",
       "      <td>10</td>\n",
       "      <td>0</td>\n",
       "      <td>28</td>\n",
       "      <td>0</td>\n",
       "      <td>0</td>\n",
       "      <td>4</td>\n",
       "      <td>100</td>\n",
       "      <td>59</td>\n",
       "      <td>2</td>\n",
       "      <td>26</td>\n",
       "      <td>4</td>\n",
       "      <td>70</td>\n",
       "      <td>0</td>\n",
       "      <td>0</td>\n",
       "    </tr>\n",
       "    <tr>\n",
       "      <th>road</th>\n",
       "      <td>6034</td>\n",
       "      <td>2786</td>\n",
       "      <td>7728</td>\n",
       "      <td>323</td>\n",
       "      <td>0</td>\n",
       "      <td>1382</td>\n",
       "      <td>151</td>\n",
       "      <td>2</td>\n",
       "      <td>110</td>\n",
       "      <td>59</td>\n",
       "      <td>8071</td>\n",
       "      <td>394</td>\n",
       "      <td>2125</td>\n",
       "      <td>1294</td>\n",
       "      <td>6295</td>\n",
       "      <td>10</td>\n",
       "      <td>36</td>\n",
       "    </tr>\n",
       "    <tr>\n",
       "      <th>haze</th>\n",
       "      <td>672</td>\n",
       "      <td>129</td>\n",
       "      <td>2670</td>\n",
       "      <td>41</td>\n",
       "      <td>0</td>\n",
       "      <td>0</td>\n",
       "      <td>5</td>\n",
       "      <td>0</td>\n",
       "      <td>5</td>\n",
       "      <td>2</td>\n",
       "      <td>394</td>\n",
       "      <td>2697</td>\n",
       "      <td>613</td>\n",
       "      <td>202</td>\n",
       "      <td>0</td>\n",
       "      <td>4</td>\n",
       "      <td>3</td>\n",
       "    </tr>\n",
       "    <tr>\n",
       "      <th>water</th>\n",
       "      <td>2712</td>\n",
       "      <td>915</td>\n",
       "      <td>7001</td>\n",
       "      <td>206</td>\n",
       "      <td>0</td>\n",
       "      <td>1295</td>\n",
       "      <td>49</td>\n",
       "      <td>3</td>\n",
       "      <td>299</td>\n",
       "      <td>26</td>\n",
       "      <td>2125</td>\n",
       "      <td>613</td>\n",
       "      <td>7411</td>\n",
       "      <td>868</td>\n",
       "      <td>5502</td>\n",
       "      <td>16</td>\n",
       "      <td>24</td>\n",
       "    </tr>\n",
       "    <tr>\n",
       "      <th>cultivation</th>\n",
       "      <td>3377</td>\n",
       "      <td>895</td>\n",
       "      <td>4455</td>\n",
       "      <td>89</td>\n",
       "      <td>0</td>\n",
       "      <td>748</td>\n",
       "      <td>58</td>\n",
       "      <td>8</td>\n",
       "      <td>18</td>\n",
       "      <td>4</td>\n",
       "      <td>1294</td>\n",
       "      <td>202</td>\n",
       "      <td>868</td>\n",
       "      <td>4477</td>\n",
       "      <td>3527</td>\n",
       "      <td>35</td>\n",
       "      <td>126</td>\n",
       "    </tr>\n",
       "    <tr>\n",
       "      <th>clear</th>\n",
       "      <td>9150</td>\n",
       "      <td>3090</td>\n",
       "      <td>27668</td>\n",
       "      <td>747</td>\n",
       "      <td>0</td>\n",
       "      <td>0</td>\n",
       "      <td>308</td>\n",
       "      <td>85</td>\n",
       "      <td>307</td>\n",
       "      <td>70</td>\n",
       "      <td>6295</td>\n",
       "      <td>0</td>\n",
       "      <td>5502</td>\n",
       "      <td>3527</td>\n",
       "      <td>28431</td>\n",
       "      <td>311</td>\n",
       "      <td>173</td>\n",
       "    </tr>\n",
       "    <tr>\n",
       "      <th>blooming</th>\n",
       "      <td>32</td>\n",
       "      <td>4</td>\n",
       "      <td>332</td>\n",
       "      <td>3</td>\n",
       "      <td>0</td>\n",
       "      <td>17</td>\n",
       "      <td>7</td>\n",
       "      <td>1</td>\n",
       "      <td>0</td>\n",
       "      <td>0</td>\n",
       "      <td>10</td>\n",
       "      <td>4</td>\n",
       "      <td>16</td>\n",
       "      <td>35</td>\n",
       "      <td>311</td>\n",
       "      <td>332</td>\n",
       "      <td>2</td>\n",
       "    </tr>\n",
       "    <tr>\n",
       "      <th>slash_burn</th>\n",
       "      <td>119</td>\n",
       "      <td>41</td>\n",
       "      <td>209</td>\n",
       "      <td>10</td>\n",
       "      <td>0</td>\n",
       "      <td>33</td>\n",
       "      <td>2</td>\n",
       "      <td>2</td>\n",
       "      <td>0</td>\n",
       "      <td>0</td>\n",
       "      <td>36</td>\n",
       "      <td>3</td>\n",
       "      <td>24</td>\n",
       "      <td>126</td>\n",
       "      <td>173</td>\n",
       "      <td>2</td>\n",
       "      <td>209</td>\n",
       "    </tr>\n",
       "  </tbody>\n",
       "</table>\n",
       "</div>"
      ],
      "text/plain": [
       "                   agriculture  habitation  primary  bare_ground  cloudy  \\\n",
       "agriculture              12315        2737    11972          225       0   \n",
       "habitation                2737        3660     3469          163       0   \n",
       "primary                  11972        3469    37513          683       0   \n",
       "bare_ground                225         163      683          862       0   \n",
       "cloudy                       0           0        0            0    2089   \n",
       "partly_cloudy             2493         441     7175           74       0   \n",
       "selective_logging           65          13      340           13       0   \n",
       "blow_down                   22           3       98            4       0   \n",
       "artisinal_mine              38          29      324           40       0   \n",
       "conventional_mine           24          36       94           10       0   \n",
       "road                      6034        2786     7728          323       0   \n",
       "haze                       672         129     2670           41       0   \n",
       "water                     2712         915     7001          206       0   \n",
       "cultivation               3377         895     4455           89       0   \n",
       "clear                     9150        3090    27668          747       0   \n",
       "blooming                    32           4      332            3       0   \n",
       "slash_burn                 119          41      209           10       0   \n",
       "\n",
       "                   partly_cloudy  selective_logging  blow_down  \\\n",
       "agriculture                 2493                 65         22   \n",
       "habitation                   441                 13          3   \n",
       "primary                     7175                340         98   \n",
       "bare_ground                   74                 13          4   \n",
       "cloudy                         0                  0          0   \n",
       "partly_cloudy               7261                 27         13   \n",
       "selective_logging             27                340          1   \n",
       "blow_down                     13                  1         98   \n",
       "artisinal_mine                27                  6          0   \n",
       "conventional_mine             28                  0          0   \n",
       "road                        1382                151          2   \n",
       "haze                           0                  5          0   \n",
       "water                       1295                 49          3   \n",
       "cultivation                  748                 58          8   \n",
       "clear                          0                308         85   \n",
       "blooming                      17                  7          1   \n",
       "slash_burn                    33                  2          2   \n",
       "\n",
       "                   artisinal_mine  conventional_mine  road  haze  water  \\\n",
       "agriculture                    38                 24  6034   672   2712   \n",
       "habitation                     29                 36  2786   129    915   \n",
       "primary                       324                 94  7728  2670   7001   \n",
       "bare_ground                    40                 10   323    41    206   \n",
       "cloudy                          0                  0     0     0      0   \n",
       "partly_cloudy                  27                 28  1382     0   1295   \n",
       "selective_logging               6                  0   151     5     49   \n",
       "blow_down                       0                  0     2     0      3   \n",
       "artisinal_mine                339                  4   110     5    299   \n",
       "conventional_mine               4                100    59     2     26   \n",
       "road                          110                 59  8071   394   2125   \n",
       "haze                            5                  2   394  2697    613   \n",
       "water                         299                 26  2125   613   7411   \n",
       "cultivation                    18                  4  1294   202    868   \n",
       "clear                         307                 70  6295     0   5502   \n",
       "blooming                        0                  0    10     4     16   \n",
       "slash_burn                      0                  0    36     3     24   \n",
       "\n",
       "                   cultivation  clear  blooming  slash_burn  \n",
       "agriculture               3377   9150        32         119  \n",
       "habitation                 895   3090         4          41  \n",
       "primary                   4455  27668       332         209  \n",
       "bare_ground                 89    747         3          10  \n",
       "cloudy                       0      0         0           0  \n",
       "partly_cloudy              748      0        17          33  \n",
       "selective_logging           58    308         7           2  \n",
       "blow_down                    8     85         1           2  \n",
       "artisinal_mine              18    307         0           0  \n",
       "conventional_mine            4     70         0           0  \n",
       "road                      1294   6295        10          36  \n",
       "haze                       202      0         4           3  \n",
       "water                      868   5502        16          24  \n",
       "cultivation               4477   3527        35         126  \n",
       "clear                     3527  28431       311         173  \n",
       "blooming                    35    311       332           2  \n",
       "slash_burn                 126    173         2         209  "
      ]
     },
     "execution_count": 21,
     "metadata": {},
     "output_type": "execute_result"
    },
    {
     "data": {
      "image/png": "[encoded data removed]",
      "text/plain": [
       "<Figure size 432x288 with 2 Axes>"
      ]
     },
     "metadata": {
      "needs_background": "light"
     },
     "output_type": "display_data"
    }
   ],
   "source": [
    "get_concurrent_matrix(unique_labels) # concurrent matrix of all tags"
   ]
  },
  {
   "cell_type": "markdown",
   "metadata": {
    "papermill": {
     "duration": 0.080985,
     "end_time": "2020-09-18T13:34:20.450006",
     "exception": false,
     "start_time": "2020-09-18T13:34:20.369021",
     "status": "completed"
    },
    "tags": []
   },
   "source": [
    "Not much overlaps amongst all tags, but ```'primary'``` and ```'clear'``` seems to have the most ovelap"
   ]
  },
  {
   "cell_type": "code",
   "execution_count": 22,
   "metadata": {
    "execution": {
     "iopub.execute_input": "2020-09-18T13:34:20.583803Z",
     "iopub.status.busy": "2020-09-18T13:34:20.582512Z",
     "iopub.status.idle": "2020-09-18T13:34:20.589461Z",
     "shell.execute_reply": "2020-09-18T13:34:20.590327Z"
    },
    "papermill": {
     "duration": 0.078675,
     "end_time": "2020-09-18T13:34:20.590518",
     "exception": false,
     "start_time": "2020-09-18T13:34:20.511843",
     "status": "completed"
    },
    "tags": []
   },
   "outputs": [
    {
     "name": "stdout",
     "output_type": "stream",
     "text": [
      "40478.0\n"
     ]
    },
    {
     "data": {
      "text/plain": [
       "False"
      ]
     },
     "execution_count": 22,
     "metadata": {},
     "output_type": "execute_result"
    }
   ],
   "source": [
    "# let's check if indeed every image must have one atmospheric condition tag\n",
    "total_atm_tags = np.matmul(np.array(atm_tags_concurrent_matrix), (np.ones((4, 1)))).sum()\n",
    "print(total_atm_tags)\n",
    "total_atm_tags == train_classes.shape[0]"
   ]
  },
  {
   "cell_type": "code",
   "execution_count": 23,
   "metadata": {
    "execution": {
     "iopub.execute_input": "2020-09-18T13:34:20.742762Z",
     "iopub.status.busy": "2020-09-18T13:34:20.741646Z",
     "iopub.status.idle": "2020-09-18T13:34:20.821255Z",
     "shell.execute_reply": "2020-09-18T13:34:20.821785Z"
    },
    "papermill": {
     "duration": 0.160375,
     "end_time": "2020-09-18T13:34:20.821968",
     "exception": false,
     "start_time": "2020-09-18T13:34:20.661593",
     "status": "completed"
    },
    "tags": []
   },
   "outputs": [
    {
     "data": {
      "text/html": [
       "<div>\n",
       "<style scoped>\n",
       "    .dataframe tbody tr th:only-of-type {\n",
       "        vertical-align: middle;\n",
       "    }\n",
       "\n",
       "    .dataframe tbody tr th {\n",
       "        vertical-align: top;\n",
       "    }\n",
       "\n",
       "    .dataframe thead th {\n",
       "        text-align: right;\n",
       "    }\n",
       "</style>\n",
       "<table border=\"1\" class=\"dataframe\">\n",
       "  <thead>\n",
       "    <tr style=\"text-align: right;\">\n",
       "      <th></th>\n",
       "      <th>image_name</th>\n",
       "      <th>clear</th>\n",
       "      <th>partly_cloudy</th>\n",
       "      <th>cloudy</th>\n",
       "      <th>haze</th>\n",
       "    </tr>\n",
       "  </thead>\n",
       "  <tbody>\n",
       "    <tr>\n",
       "      <th>24448</th>\n",
       "      <td>train_24448.jpg</td>\n",
       "      <td>0</td>\n",
       "      <td>0</td>\n",
       "      <td>0</td>\n",
       "      <td>0</td>\n",
       "    </tr>\n",
       "  </tbody>\n",
       "</table>\n",
       "</div>"
      ],
      "text/plain": [
       "            image_name  clear  partly_cloudy  cloudy  haze\n",
       "24448  train_24448.jpg      0              0       0     0"
      ]
     },
     "execution_count": 23,
     "metadata": {},
     "output_type": "execute_result"
    }
   ],
   "source": [
    "# the above cell returned false, it seems only one image doesn't contain any atmospheric condition.\n",
    "# let's check it out\n",
    "image_atm_tags_df = train_classes.loc[:, ['image_name']+atm_condition_tags] \n",
    "image_without_atm_df = image_atm_tags_df.loc[image_atm_tags_df.sum(axis=1) == 0]\n",
    "image_without_atm_df"
   ]
  },
  {
   "cell_type": "code",
   "execution_count": 24,
   "metadata": {
    "execution": {
     "iopub.execute_input": "2020-09-18T13:34:21.038553Z",
     "iopub.status.busy": "2020-09-18T13:34:21.037376Z",
     "iopub.status.idle": "2020-09-18T13:34:21.360116Z",
     "shell.execute_reply": "2020-09-18T13:34:21.361474Z"
    },
    "papermill": {
     "duration": 0.437797,
     "end_time": "2020-09-18T13:34:21.361696",
     "exception": false,
     "start_time": "2020-09-18T13:34:20.923899",
     "status": "completed"
    },
    "tags": []
   },
   "outputs": [
    {
     "data": {
      "text/plain": [
       "<matplotlib.image.AxesImage at 0x7f75edb9f950>"
      ]
     },
     "execution_count": 24,
     "metadata": {},
     "output_type": "execute_result"
    },
    {
     "data": {
      "image/png": "[encoded data removed]",
      "text/plain": [
       "<Figure size 432x288 with 1 Axes>"
      ]
     },
     "metadata": {
      "needs_background": "light"
     },
     "output_type": "display_data"
    }
   ],
   "source": [
    "# let's view this image without any atmospheric condition\n",
    "image_without_atm_name = image_without_atm_df.loc[24448, 'image_name']\n",
    "image_without_atm = io.imread('/kaggle/input/planets-dataset/planet/planet/train-jpg/{}'.format( \\\n",
    "                                                                                    image_without_atm_name))\n",
    "plt.imshow(image_without_atm)"
   ]
  },
  {
   "cell_type": "code",
   "execution_count": 25,
   "metadata": {
    "execution": {
     "iopub.execute_input": "2020-09-18T13:34:21.631894Z",
     "iopub.status.busy": "2020-09-18T13:34:21.624516Z",
     "iopub.status.idle": "2020-09-18T13:34:21.645641Z",
     "shell.execute_reply": "2020-09-18T13:34:21.646768Z"
    },
    "papermill": {
     "duration": 0.176553,
     "end_time": "2020-09-18T13:34:21.646978",
     "exception": false,
     "start_time": "2020-09-18T13:34:21.470425",
     "status": "completed"
    },
    "tags": []
   },
   "outputs": [
    {
     "data": {
      "text/html": [
       "<div>\n",
       "<style scoped>\n",
       "    .dataframe tbody tr th:only-of-type {\n",
       "        vertical-align: middle;\n",
       "    }\n",
       "\n",
       "    .dataframe tbody tr th {\n",
       "        vertical-align: top;\n",
       "    }\n",
       "\n",
       "    .dataframe thead th {\n",
       "        text-align: right;\n",
       "    }\n",
       "</style>\n",
       "<table border=\"1\" class=\"dataframe\">\n",
       "  <thead>\n",
       "    <tr style=\"text-align: right;\">\n",
       "      <th></th>\n",
       "      <th>image_name</th>\n",
       "      <th>tags</th>\n",
       "    </tr>\n",
       "  </thead>\n",
       "  <tbody>\n",
       "    <tr>\n",
       "      <th>24448</th>\n",
       "      <td>train_24448</td>\n",
       "      <td>water</td>\n",
       "    </tr>\n",
       "  </tbody>\n",
       "</table>\n",
       "</div>"
      ],
      "text/plain": [
       "        image_name   tags\n",
       "24448  train_24448  water"
      ]
     },
     "execution_count": 25,
     "metadata": {},
     "output_type": "execute_result"
    }
   ],
   "source": [
    "# let's checkout the tags associated with this image above\n",
    "train_classes_df[train_classes_df['image_name'] == image_without_atm_name[:-4]]"
   ]
  },
  {
   "cell_type": "markdown",
   "metadata": {
    "papermill": {
     "duration": 0.116684,
     "end_time": "2020-09-18T13:34:21.861994",
     "exception": false,
     "start_time": "2020-09-18T13:34:21.745310",
     "status": "completed"
    },
    "tags": []
   },
   "source": [
    "The data says it is water, does it look like one? Perhaps it is a dirty water or some random noise!"
   ]
  },
  {
   "cell_type": "code",
   "execution_count": 26,
   "metadata": {
    "execution": {
     "iopub.execute_input": "2020-09-18T13:34:22.137554Z",
     "iopub.status.busy": "2020-09-18T13:34:22.134644Z",
     "iopub.status.idle": "2020-09-18T13:34:22.148025Z",
     "shell.execute_reply": "2020-09-18T13:34:22.149469Z"
    },
    "papermill": {
     "duration": 0.145672,
     "end_time": "2020-09-18T13:34:22.149706",
     "exception": false,
     "start_time": "2020-09-18T13:34:22.004034",
     "status": "completed"
    },
    "tags": []
   },
   "outputs": [
    {
     "data": {
      "text/plain": [
       "(256, 256, 3)"
      ]
     },
     "execution_count": 26,
     "metadata": {},
     "output_type": "execute_result"
    }
   ],
   "source": [
    "# let's view a sample image say 'train_10.jpg' \n",
    "image_number = 10\n",
    "sample_img = io.imread('/kaggle/input/planets-dataset/planet/planet/train-jpg/train_{}.jpg'.format(image_number))\n",
    "r, g, b = sample_img[:, :, 0], sample_img[:, :, 1], sample_img[:, :, 2]\n",
    "sample_img.shape"
   ]
  },
  {
   "cell_type": "code",
   "execution_count": 27,
   "metadata": {
    "execution": {
     "iopub.execute_input": "2020-09-18T13:34:22.359747Z",
     "iopub.status.busy": "2020-09-18T13:34:22.358748Z",
     "iopub.status.idle": "2020-09-18T13:34:22.921982Z",
     "shell.execute_reply": "2020-09-18T13:34:22.922617Z"
    },
    "papermill": {
     "duration": 0.669774,
     "end_time": "2020-09-18T13:34:22.922784",
     "exception": false,
     "start_time": "2020-09-18T13:34:22.253010",
     "status": "completed"
    },
    "tags": []
   },
   "outputs": [
    {
     "data": {
      "image/png": "[encoded data removed]",
      "text/plain": [
       "<Figure size 864x288 with 3 Axes>"
      ]
     },
     "metadata": {
      "needs_background": "light"
     },
     "output_type": "display_data"
    }
   ],
   "source": [
    "fig = plt.figure()\n",
    "fig.set_size_inches(12, 4)\n",
    "for ind, (img, channel) in enumerate(((r, 'r'), (g, 'g'), (b, 'b'))):\n",
    "    a = fig.add_subplot(1, 4, ind+1)\n",
    "    a.set_title(channel)\n",
    "    plt.imshow(img)\n",
    "    \n",
    "# displaying the red, green and blue channels seperately"
   ]
  },
  {
   "cell_type": "code",
   "execution_count": 28,
   "metadata": {
    "execution": {
     "iopub.execute_input": "2020-09-18T13:34:23.092212Z",
     "iopub.status.busy": "2020-09-18T13:34:23.090552Z",
     "iopub.status.idle": "2020-09-18T13:34:23.318406Z",
     "shell.execute_reply": "2020-09-18T13:34:23.319167Z"
    },
    "papermill": {
     "duration": 0.315227,
     "end_time": "2020-09-18T13:34:23.319440",
     "exception": false,
     "start_time": "2020-09-18T13:34:23.004213",
     "status": "completed"
    },
    "tags": []
   },
   "outputs": [
    {
     "data": {
      "text/plain": [
       "<matplotlib.image.AxesImage at 0x7f75ecfe9710>"
      ]
     },
     "execution_count": 28,
     "metadata": {},
     "output_type": "execute_result"
    },
    {
     "data": {
      "image/png": "[encoded data removed]",
      "text/plain": [
       "<Figure size 432x288 with 1 Axes>"
      ]
     },
     "metadata": {
      "needs_background": "light"
     },
     "output_type": "display_data"
    }
   ],
   "source": [
    "plt.imshow(sample_img) # displaying all channels at once"
   ]
  },
  {
   "cell_type": "code",
   "execution_count": 29,
   "metadata": {
    "execution": {
     "iopub.execute_input": "2020-09-18T13:34:23.492095Z",
     "iopub.status.busy": "2020-09-18T13:34:23.490816Z",
     "iopub.status.idle": "2020-09-18T13:34:32.226997Z",
     "shell.execute_reply": "2020-09-18T13:34:32.228333Z"
    },
    "papermill": {
     "duration": 8.822516,
     "end_time": "2020-09-18T13:34:32.228535",
     "exception": false,
     "start_time": "2020-09-18T13:34:23.406019",
     "status": "completed"
    },
    "tags": []
   },
   "outputs": [
    {
     "name": "stdout",
     "output_type": "stream",
     "text": [
      "Found 40479 validated image filenames.\n"
     ]
    }
   ],
   "source": [
    "y_col = list(train_classes.columns[2:]) # storing the tags column names as a variable\n",
    "\n",
    "# initializing an image generator with some data augumentation\n",
    "image_gen = tf.keras.preprocessing.image.ImageDataGenerator(rotation_range=45, horizontal_flip=True, \\\n",
    "                                            vertical_flip=True, zoom_range=0.2)\n",
    "\n",
    "# loading images from dataframe\n",
    "X = image_gen.flow_from_dataframe(dataframe=train_classes, \\\n",
    "        directory='/kaggle/input/planets-dataset/planet/planet/train-jpg/', x_col='image_name', y_col=y_col, \\\n",
    "       target_size=(128, 128), class_mode='raw', seed=1, batch_size=128)"
   ]
  },
  {
   "cell_type": "code",
   "execution_count": 30,
   "metadata": {
    "execution": {
     "iopub.execute_input": "2020-09-18T13:34:32.485280Z",
     "iopub.status.busy": "2020-09-18T13:34:32.484210Z",
     "iopub.status.idle": "2020-09-18T13:34:35.629259Z",
     "shell.execute_reply": "2020-09-18T13:34:35.630079Z"
    },
    "papermill": {
     "duration": 3.281456,
     "end_time": "2020-09-18T13:34:35.630296",
     "exception": false,
     "start_time": "2020-09-18T13:34:32.348840",
     "status": "completed"
    },
    "tags": []
   },
   "outputs": [
    {
     "name": "stdout",
     "output_type": "stream",
     "text": [
      "each image's shape is (128, 128, 3)\n",
      "each label's shape is (17,)\n",
      "we have 317 batches\n",
      "each batch has 128 images/labels\n",
      "40479/128 is 316.24, so the last batch will have 31 images/labels\n"
     ]
    }
   ],
   "source": [
    "# X is an iterable, It contains 317 batches, each batch contains 128 images and labels because \n",
    "#40479 / 128 is 316 remainder 31 each image is of shape (128, 128, 3), each label is of shape (17, )\n",
    "\n",
    "# let's abitrarily view an image\n",
    "x109 = X[0][0][109] # first batch, images, 109th image\n",
    "y109 = X[0][1][109] # first batch, labels, 109th label\n",
    "print(\"each image's shape is {}\".format(x109.shape))\n",
    "print(\"each label's shape is {}\".format(y109.shape))\n",
    "print('we have {} batches'.format(len(X)))\n",
    "print('each batch has {} images/labels'.format(X[0][0].shape[0]))\n",
    "print('40479/128 is {:.2F}, so the last batch will have {} images/labels'.format(40479/128, X[316][0].shape[0]))"
   ]
  },
  {
   "cell_type": "code",
   "execution_count": 31,
   "metadata": {
    "execution": {
     "iopub.execute_input": "2020-09-18T13:34:35.808528Z",
     "iopub.status.busy": "2020-09-18T13:34:35.798062Z",
     "iopub.status.idle": "2020-09-18T13:34:36.033726Z",
     "shell.execute_reply": "2020-09-18T13:34:36.034405Z"
    },
    "papermill": {
     "duration": 0.318278,
     "end_time": "2020-09-18T13:34:36.034573",
     "exception": false,
     "start_time": "2020-09-18T13:34:35.716295",
     "status": "completed"
    },
    "tags": []
   },
   "outputs": [
    {
     "data": {
      "text/plain": [
       "<matplotlib.image.AxesImage at 0x7f75e88eb590>"
      ]
     },
     "execution_count": 31,
     "metadata": {},
     "output_type": "execute_result"
    },
    {
     "data": {
      "image/png": "[encoded data removed]",
      "text/plain": [
       "<Figure size 432x288 with 1 Axes>"
      ]
     },
     "metadata": {
      "needs_background": "light"
     },
     "output_type": "display_data"
    }
   ],
   "source": [
    "plt.imshow(x109/255) # divided by 255 so the image can be displayed"
   ]
  },
  {
   "cell_type": "code",
   "execution_count": 32,
   "metadata": {
    "execution": {
     "iopub.execute_input": "2020-09-18T13:34:36.204889Z",
     "iopub.status.busy": "2020-09-18T13:34:36.203975Z",
     "iopub.status.idle": "2020-09-18T13:34:36.208236Z",
     "shell.execute_reply": "2020-09-18T13:34:36.207632Z"
    },
    "papermill": {
     "duration": 0.090744,
     "end_time": "2020-09-18T13:34:36.208348",
     "exception": false,
     "start_time": "2020-09-18T13:34:36.117604",
     "status": "completed"
    },
    "tags": []
   },
   "outputs": [],
   "source": [
    "# importing useful deep learning libraries\n",
    "\n",
    "from tensorflow.keras.applications.vgg19 import VGG19\n",
    "from tensorflow.keras.models import Sequential\n",
    "from tensorflow.keras.layers import Dense, Flatten, BatchNormalization\n",
    "from tensorflow.keras.optimizers import Adam\n",
    "from tensorflow.keras.callbacks import EarlyStopping, ReduceLROnPlateau, ModelCheckpoint"
   ]
  },
  {
   "cell_type": "code",
   "execution_count": 33,
   "metadata": {
    "execution": {
     "iopub.execute_input": "2020-09-18T13:34:36.388424Z",
     "iopub.status.busy": "2020-09-18T13:34:36.387410Z",
     "iopub.status.idle": "2020-09-18T13:34:36.390317Z",
     "shell.execute_reply": "2020-09-18T13:34:36.390863Z"
    },
    "papermill": {
     "duration": 0.096198,
     "end_time": "2020-09-18T13:34:36.391067",
     "exception": false,
     "start_time": "2020-09-18T13:34:36.294869",
     "status": "completed"
    },
    "tags": []
   },
   "outputs": [],
   "source": [
    "# defining a function to calculate fbeta score\n",
    "\n",
    "def fbeta(ytrue, ypred, beta=2, threshold=0.2, epsilon=1e-7):\n",
    "    # threshold is set to 0.2 to maximize recall since f2 score is recall biased\n",
    "    # epsilon is set to 1e-7 to avoide Nan values due to zero division\n",
    "    \n",
    "    beta_squarred = float(beta)**2\n",
    "    \n",
    "    ytrue = tf.cast(ytrue, tf.float32) # casts ytrue as a float\n",
    "    # convert ypred to bool, then to float\n",
    "    ypred = tf.cast(tf.greater(tf.cast(ypred, tf.float32), tf.constant(threshold)), tf.float32) \n",
    "    \n",
    "    tp = tf.reduce_sum(tf.cast(tf.equal((2.0*ytrue + ypred), tf.constant(3.0)), tf.float32), axis=1) \n",
    "    fp = tf.reduce_sum(tf.cast(tf.equal((2.0*ytrue + ypred), tf.constant(1.0)), tf.float32), axis=1)\n",
    "    fn = tf.reduce_sum(tf.cast(tf.equal((2.0*ytrue + ypred), tf.constant(2.0)), tf.float32), axis=1)\n",
    "\n",
    "    precision = tp / (tp+fp)\n",
    "    recall = tp / (tp+fn)\n",
    "    fb = (beta_squarred+1) * precision * recall / (precision*beta_squarred + recall + epsilon)\n",
    "  \n",
    "    return fb"
   ]
  },
  {
   "cell_type": "code",
   "execution_count": 34,
   "metadata": {
    "execution": {
     "iopub.execute_input": "2020-09-18T13:34:36.565108Z",
     "iopub.status.busy": "2020-09-18T13:34:36.558833Z",
     "iopub.status.idle": "2020-09-18T13:34:36.568312Z",
     "shell.execute_reply": "2020-09-18T13:34:36.567666Z"
    },
    "papermill": {
     "duration": 0.097699,
     "end_time": "2020-09-18T13:34:36.568420",
     "exception": false,
     "start_time": "2020-09-18T13:34:36.470721",
     "status": "completed"
    },
    "tags": []
   },
   "outputs": [],
   "source": [
    "# creating a function to calculate multi-label accuracy \n",
    "\n",
    "def multi_label_acc(ytrue, ypred, threshold=0.2, epsilon=1e-7):\n",
    "    # threshold is set to 0.2 to maximize recall since f2 score is recall biased\n",
    "    # epsilon is set to 1e-7 to avoide Nan values due to zero division\n",
    "    \n",
    "    ytrue = tf.cast(ytrue, tf.float32) # casts ytrue as a float\n",
    "    # convert ypred to bool, then to float\n",
    "    ypred = tf.cast(tf.greater(tf.cast(ypred, tf.float32), tf.constant(threshold)), tf.float32) \n",
    "    \n",
    "    tp = tf.reduce_sum(tf.cast(tf.equal((2.0*ytrue + ypred), tf.constant(3.0)), tf.float32), axis=1) \n",
    "    fp = tf.reduce_sum(tf.cast(tf.equal((2.0*ytrue + ypred), tf.constant(1.0)), tf.float32), axis=1)\n",
    "    fn = tf.reduce_sum(tf.cast(tf.equal((2.0*ytrue + ypred), tf.constant(2.0)), tf.float32), axis=1)\n",
    "    tn = tf.reduce_sum(tf.cast(tf.equal((2.0*ytrue + ypred), tf.constant(0.0)), tf.float32), axis=1)\n",
    "    \n",
    "    acc = (tp+tn) / (tp+fp+fn+tn+epsilon)  \n",
    "    \n",
    "    return acc"
   ]
  },
  {
   "cell_type": "code",
   "execution_count": 35,
   "metadata": {
    "execution": {
     "iopub.execute_input": "2020-09-18T13:34:36.738738Z",
     "iopub.status.busy": "2020-09-18T13:34:36.737852Z",
     "iopub.status.idle": "2020-09-18T13:34:36.742169Z",
     "shell.execute_reply": "2020-09-18T13:34:36.741579Z"
    },
    "papermill": {
     "duration": 0.095685,
     "end_time": "2020-09-18T13:34:36.742288",
     "exception": false,
     "start_time": "2020-09-18T13:34:36.646603",
     "status": "completed"
    },
    "tags": []
   },
   "outputs": [],
   "source": [
    "# creating a function to build a sequential model\n",
    "\n",
    "def build_model():\n",
    "    base_model = VGG19(include_top=False, weights='imagenet', input_shape=(128, 128, 3))\n",
    "    model = Sequential()\n",
    "    model.add(BatchNormalization(input_shape=(128, 128, 3)))\n",
    "    model.add(base_model)\n",
    "    model.add(Flatten())\n",
    "    model.add(Dense(17, activation='sigmoid'))\n",
    "    opt = Adam(lr=1e-4)\n",
    "    model.compile(loss='binary_crossentropy', optimizer=opt, metrics=[multi_label_acc, fbeta])\n",
    "    \n",
    "    return model"
   ]
  },
  {
   "cell_type": "code",
   "execution_count": 36,
   "metadata": {
    "execution": {
     "iopub.execute_input": "2020-09-18T13:34:36.909973Z",
     "iopub.status.busy": "2020-09-18T13:34:36.909150Z",
     "iopub.status.idle": "2020-09-18T13:34:36.911851Z",
     "shell.execute_reply": "2020-09-18T13:34:36.912393Z"
    },
    "papermill": {
     "duration": 0.090159,
     "end_time": "2020-09-18T13:34:36.912544",
     "exception": false,
     "start_time": "2020-09-18T13:34:36.822385",
     "status": "completed"
    },
    "tags": []
   },
   "outputs": [],
   "source": [
    "# initializing callbacks\n",
    "#early_stopping = EarlyStopping(monitor='val_fbeta', patience=15, mode='max', verbose=1)\n",
    "reduced_lr = ReduceLROnPlateau(monitor='val_fbeta', patience=3, cool_down=2, mode='max')\n",
    "save_best_check_point = ModelCheckpoint(filepath='best_model3.hdf5', monitor='val_fbeta', \\\n",
    "                                        mode='max', save_best_only=True, save_weights_only=True)"
   ]
  },
  {
   "cell_type": "code",
   "execution_count": 37,
   "metadata": {
    "execution": {
     "iopub.execute_input": "2020-09-18T13:34:37.129604Z",
     "iopub.status.busy": "2020-09-18T13:34:37.128452Z",
     "iopub.status.idle": "2020-09-18T13:34:54.748899Z",
     "shell.execute_reply": "2020-09-18T13:34:54.748032Z"
    },
    "papermill": {
     "duration": 17.712756,
     "end_time": "2020-09-18T13:34:54.749073",
     "exception": false,
     "start_time": "2020-09-18T13:34:37.036317",
     "status": "completed"
    },
    "tags": []
   },
   "outputs": [
    {
     "name": "stdout",
     "output_type": "stream",
     "text": [
      "Found 32384 validated image filenames.\n",
      "Found 8095 validated image filenames.\n"
     ]
    }
   ],
   "source": [
    "# initializing an image data generator object with a validation split of 80:20\n",
    "train_image_gen = tf.keras.preprocessing.image.ImageDataGenerator(rotation_range=180, horizontal_flip=True, \\\n",
    "                                            vertical_flip=True, validation_split=0.2)\n",
    "\n",
    "# generating the 80% training image data\n",
    "train_gen = train_image_gen.flow_from_dataframe(dataframe=train_classes, \\\n",
    "        directory='/kaggle/input/planets-dataset/planet/planet/train-jpg/', x_col='image_name', y_col=y_col, \\\n",
    "       target_size=(128, 128), class_mode='raw', seed=0, batch_size=128, subset='training')\n",
    "\n",
    "# generating the 20% validation image data\n",
    "val_gen = train_image_gen.flow_from_dataframe(dataframe=train_classes, \\\n",
    "        directory='/kaggle/input/planets-dataset/planet/planet/train-jpg/', x_col='image_name', y_col=y_col, \\\n",
    "       target_size=(128, 128), class_mode='raw', seed=0, batch_size=128, subset='validation')"
   ]
  },
  {
   "cell_type": "code",
   "execution_count": 38,
   "metadata": {
    "execution": {
     "iopub.execute_input": "2020-09-18T13:34:55.031331Z",
     "iopub.status.busy": "2020-09-18T13:34:55.030188Z",
     "iopub.status.idle": "2020-09-18T13:34:55.038187Z",
     "shell.execute_reply": "2020-09-18T13:34:55.039418Z"
    },
    "papermill": {
     "duration": 0.176269,
     "end_time": "2020-09-18T13:34:55.039690",
     "exception": false,
     "start_time": "2020-09-18T13:34:54.863421",
     "status": "completed"
    },
    "tags": []
   },
   "outputs": [],
   "source": [
    "# setting step size for training and validation image data\n",
    "step_train_size = int(np.ceil(train_gen.samples / train_gen.batch_size))\n",
    "step_val_size = int(np.ceil(val_gen.samples / train_gen.batch_size))"
   ]
  },
  {
   "cell_type": "code",
   "execution_count": 39,
   "metadata": {
    "_kg_hide-output": false,
    "execution": {
     "iopub.execute_input": "2020-09-18T13:34:55.226239Z",
     "iopub.status.busy": "2020-09-18T13:34:55.225222Z",
     "iopub.status.idle": "2020-09-18T18:06:05.248115Z",
     "shell.execute_reply": "2020-09-18T18:06:05.247193Z"
    },
    "papermill": {
     "duration": 16270.11605,
     "end_time": "2020-09-18T18:06:05.248290",
     "exception": false,
     "start_time": "2020-09-18T13:34:55.132240",
     "status": "completed"
    },
    "tags": []
   },
   "outputs": [
    {
     "name": "stdout",
     "output_type": "stream",
     "text": [
      "Downloading data from https://storage.googleapis.com/tensorflow/keras-applications/vgg19/vgg19_weights_tf_dim_ordering_tf_kernels_notop.h5\n",
      "80142336/80134624 [==============================] - 1s 0us/step\n",
      "Epoch 1/50\n",
      "253/253 [==============================] - 344s 1s/step - loss: 0.1381 - multi_label_acc: 0.9240 - fbeta: 0.8732 - val_loss: 0.1105 - val_multi_label_acc: 0.9444 - val_fbeta: 0.9031\n",
      "Epoch 2/50\n",
      "253/253 [==============================] - 311s 1s/step - loss: 0.1084 - multi_label_acc: 0.9460 - fbeta: 0.9042 - val_loss: 0.1068 - val_multi_label_acc: 0.9506 - val_fbeta: 0.9063\n",
      "Epoch 3/50\n",
      "253/253 [==============================] - 313s 1s/step - loss: 0.1028 - multi_label_acc: 0.9489 - fbeta: 0.9102 - val_loss: 0.1091 - val_multi_label_acc: 0.9491 - val_fbeta: 0.9046\n",
      "Epoch 4/50\n",
      "253/253 [==============================] - 318s 1s/step - loss: 0.0989 - multi_label_acc: 0.9511 - fbeta: 0.9144 - val_loss: 0.1013 - val_multi_label_acc: 0.9506 - val_fbeta: 0.9094\n",
      "Epoch 5/50\n",
      "253/253 [==============================] - 314s 1s/step - loss: 0.0969 - multi_label_acc: 0.9516 - fbeta: 0.9158 - val_loss: 0.0956 - val_multi_label_acc: 0.9534 - val_fbeta: 0.9185\n",
      "Epoch 6/50\n",
      "253/253 [==============================] - 314s 1s/step - loss: 0.0962 - multi_label_acc: 0.9520 - fbeta: 0.9163 - val_loss: 0.0947 - val_multi_label_acc: 0.9552 - val_fbeta: 0.9190\n",
      "Epoch 7/50\n",
      "253/253 [==============================] - 317s 1s/step - loss: 0.0940 - multi_label_acc: 0.9526 - fbeta: 0.9180 - val_loss: 0.0947 - val_multi_label_acc: 0.9502 - val_fbeta: 0.9167\n",
      "Epoch 8/50\n",
      "253/253 [==============================] - 318s 1s/step - loss: 0.0932 - multi_label_acc: 0.9534 - fbeta: 0.9188 - val_loss: 0.0935 - val_multi_label_acc: 0.9513 - val_fbeta: 0.9190\n",
      "Epoch 9/50\n",
      "253/253 [==============================] - 320s 1s/step - loss: 0.0912 - multi_label_acc: 0.9541 - fbeta: 0.9208 - val_loss: 0.0935 - val_multi_label_acc: 0.9531 - val_fbeta: 0.9180\n",
      "Epoch 10/50\n",
      "253/253 [==============================] - 320s 1s/step - loss: 0.0851 - multi_label_acc: 0.9571 - fbeta: 0.9263 - val_loss: 0.0874 - val_multi_label_acc: 0.9564 - val_fbeta: 0.9243\n",
      "Epoch 11/50\n",
      "253/253 [==============================] - 322s 1s/step - loss: 0.0830 - multi_label_acc: 0.9579 - fbeta: 0.9279 - val_loss: 0.0876 - val_multi_label_acc: 0.9557 - val_fbeta: 0.9231\n",
      "Epoch 12/50\n",
      "253/253 [==============================] - 320s 1s/step - loss: 0.0821 - multi_label_acc: 0.9578 - fbeta: 0.9284 - val_loss: 0.0874 - val_multi_label_acc: 0.9562 - val_fbeta: 0.9246\n",
      "Epoch 13/50\n",
      "253/253 [==============================] - 320s 1s/step - loss: 0.0817 - multi_label_acc: 0.9583 - fbeta: 0.9290 - val_loss: 0.0870 - val_multi_label_acc: 0.9559 - val_fbeta: 0.9248\n",
      "Epoch 14/50\n",
      "253/253 [==============================] - 323s 1s/step - loss: 0.0816 - multi_label_acc: 0.9582 - fbeta: 0.9288 - val_loss: 0.0872 - val_multi_label_acc: 0.9549 - val_fbeta: 0.9246\n",
      "Epoch 15/50\n",
      "253/253 [==============================] - 324s 1s/step - loss: 0.0811 - multi_label_acc: 0.9585 - fbeta: 0.9296 - val_loss: 0.0870 - val_multi_label_acc: 0.9560 - val_fbeta: 0.9246\n",
      "Epoch 16/50\n",
      "253/253 [==============================] - 324s 1s/step - loss: 0.0805 - multi_label_acc: 0.9587 - fbeta: 0.9304 - val_loss: 0.0875 - val_multi_label_acc: 0.9573 - val_fbeta: 0.9245\n",
      "Epoch 17/50\n",
      "253/253 [==============================] - 325s 1s/step - loss: 0.0791 - multi_label_acc: 0.9593 - fbeta: 0.9312 - val_loss: 0.0863 - val_multi_label_acc: 0.9567 - val_fbeta: 0.9249\n",
      "Epoch 18/50\n",
      "253/253 [==============================] - 324s 1s/step - loss: 0.0793 - multi_label_acc: 0.9594 - fbeta: 0.9315 - val_loss: 0.0864 - val_multi_label_acc: 0.9565 - val_fbeta: 0.9254\n",
      "Epoch 19/50\n",
      "253/253 [==============================] - 326s 1s/step - loss: 0.0793 - multi_label_acc: 0.9592 - fbeta: 0.9312 - val_loss: 0.0867 - val_multi_label_acc: 0.9565 - val_fbeta: 0.9249\n",
      "Epoch 20/50\n",
      "253/253 [==============================] - 326s 1s/step - loss: 0.0790 - multi_label_acc: 0.9592 - fbeta: 0.9311 - val_loss: 0.0864 - val_multi_label_acc: 0.9569 - val_fbeta: 0.9251\n",
      "Epoch 21/50\n",
      "253/253 [==============================] - 329s 1s/step - loss: 0.0790 - multi_label_acc: 0.9594 - fbeta: 0.9313 - val_loss: 0.0865 - val_multi_label_acc: 0.9568 - val_fbeta: 0.9253\n",
      "Epoch 22/50\n",
      "253/253 [==============================] - 326s 1s/step - loss: 0.0787 - multi_label_acc: 0.9592 - fbeta: 0.9314 - val_loss: 0.0859 - val_multi_label_acc: 0.9571 - val_fbeta: 0.9261\n",
      "Epoch 23/50\n",
      "253/253 [==============================] - 329s 1s/step - loss: 0.0785 - multi_label_acc: 0.9595 - fbeta: 0.9319 - val_loss: 0.0865 - val_multi_label_acc: 0.9566 - val_fbeta: 0.9250\n",
      "Epoch 24/50\n",
      "253/253 [==============================] - 327s 1s/step - loss: 0.0784 - multi_label_acc: 0.9595 - fbeta: 0.9318 - val_loss: 0.0861 - val_multi_label_acc: 0.9567 - val_fbeta: 0.9254\n",
      "Epoch 25/50\n",
      "253/253 [==============================] - 328s 1s/step - loss: 0.0788 - multi_label_acc: 0.9596 - fbeta: 0.9318 - val_loss: 0.0865 - val_multi_label_acc: 0.9568 - val_fbeta: 0.9254\n",
      "Epoch 26/50\n",
      "253/253 [==============================] - 327s 1s/step - loss: 0.0783 - multi_label_acc: 0.9596 - fbeta: 0.9321 - val_loss: 0.0860 - val_multi_label_acc: 0.9569 - val_fbeta: 0.9256\n",
      "Epoch 27/50\n",
      "253/253 [==============================] - 331s 1s/step - loss: 0.0786 - multi_label_acc: 0.9596 - fbeta: 0.9322 - val_loss: 0.0862 - val_multi_label_acc: 0.9566 - val_fbeta: 0.9251\n",
      "Epoch 28/50\n",
      "253/253 [==============================] - 327s 1s/step - loss: 0.0787 - multi_label_acc: 0.9596 - fbeta: 0.9316 - val_loss: 0.0859 - val_multi_label_acc: 0.9568 - val_fbeta: 0.9258\n",
      "Epoch 29/50\n",
      "253/253 [==============================] - 329s 1s/step - loss: 0.0789 - multi_label_acc: 0.9595 - fbeta: 0.9315 - val_loss: 0.0862 - val_multi_label_acc: 0.9569 - val_fbeta: 0.9257\n",
      "Epoch 30/50\n",
      "253/253 [==============================] - 330s 1s/step - loss: 0.0785 - multi_label_acc: 0.9593 - fbeta: 0.9314 - val_loss: 0.0859 - val_multi_label_acc: 0.9571 - val_fbeta: 0.9255\n",
      "Epoch 31/50\n",
      "253/253 [==============================] - 331s 1s/step - loss: 0.0790 - multi_label_acc: 0.9594 - fbeta: 0.9317 - val_loss: 0.0861 - val_multi_label_acc: 0.9569 - val_fbeta: 0.9254\n",
      "Epoch 32/50\n",
      "253/253 [==============================] - 331s 1s/step - loss: 0.0786 - multi_label_acc: 0.9595 - fbeta: 0.9318 - val_loss: 0.0859 - val_multi_label_acc: 0.9570 - val_fbeta: 0.9257\n",
      "Epoch 33/50\n",
      "253/253 [==============================] - 327s 1s/step - loss: 0.0788 - multi_label_acc: 0.9597 - fbeta: 0.9319 - val_loss: 0.0856 - val_multi_label_acc: 0.9566 - val_fbeta: 0.9251\n",
      "Epoch 34/50\n",
      "253/253 [==============================] - 330s 1s/step - loss: 0.0787 - multi_label_acc: 0.9594 - fbeta: 0.9317 - val_loss: 0.0863 - val_multi_label_acc: 0.9566 - val_fbeta: 0.9252\n",
      "Epoch 35/50\n",
      "253/253 [==============================] - 335s 1s/step - loss: 0.0787 - multi_label_acc: 0.9594 - fbeta: 0.9316 - val_loss: 0.0869 - val_multi_label_acc: 0.9566 - val_fbeta: 0.9249\n",
      "Epoch 36/50\n",
      "253/253 [==============================] - 325s 1s/step - loss: 0.0786 - multi_label_acc: 0.9595 - fbeta: 0.9318 - val_loss: 0.0866 - val_multi_label_acc: 0.9565 - val_fbeta: 0.9244\n",
      "Epoch 37/50\n",
      "253/253 [==============================] - 320s 1s/step - loss: 0.0785 - multi_label_acc: 0.9595 - fbeta: 0.9315 - val_loss: 0.0858 - val_multi_label_acc: 0.9570 - val_fbeta: 0.9257\n",
      "Epoch 38/50\n",
      "253/253 [==============================] - 320s 1s/step - loss: 0.0783 - multi_label_acc: 0.9595 - fbeta: 0.9320 - val_loss: 0.0865 - val_multi_label_acc: 0.9568 - val_fbeta: 0.9251\n",
      "Epoch 39/50\n",
      "253/253 [==============================] - 318s 1s/step - loss: 0.0787 - multi_label_acc: 0.9593 - fbeta: 0.9312 - val_loss: 0.0867 - val_multi_label_acc: 0.9570 - val_fbeta: 0.9257\n",
      "Epoch 40/50\n",
      "253/253 [==============================] - 317s 1s/step - loss: 0.0786 - multi_label_acc: 0.9594 - fbeta: 0.9317 - val_loss: 0.0858 - val_multi_label_acc: 0.9569 - val_fbeta: 0.9255\n",
      "Epoch 41/50\n",
      "253/253 [==============================] - 318s 1s/step - loss: 0.0786 - multi_label_acc: 0.9597 - fbeta: 0.9322 - val_loss: 0.0862 - val_multi_label_acc: 0.9568 - val_fbeta: 0.9254\n",
      "Epoch 42/50\n",
      "253/253 [==============================] - 322s 1s/step - loss: 0.0785 - multi_label_acc: 0.9595 - fbeta: 0.9318 - val_loss: 0.0861 - val_multi_label_acc: 0.9567 - val_fbeta: 0.9249\n",
      "Epoch 43/50\n",
      "253/253 [==============================] - 321s 1s/step - loss: 0.0786 - multi_label_acc: 0.9595 - fbeta: 0.9318 - val_loss: 0.0861 - val_multi_label_acc: 0.9568 - val_fbeta: 0.9257\n",
      "Epoch 44/50\n",
      "253/253 [==============================] - 325s 1s/step - loss: 0.0784 - multi_label_acc: 0.9596 - fbeta: 0.9321 - val_loss: 0.0859 - val_multi_label_acc: 0.9572 - val_fbeta: 0.9257\n",
      "Epoch 45/50\n",
      "253/253 [==============================] - 324s 1s/step - loss: 0.0787 - multi_label_acc: 0.9593 - fbeta: 0.9315 - val_loss: 0.0861 - val_multi_label_acc: 0.9569 - val_fbeta: 0.9251\n",
      "Epoch 46/50\n",
      "253/253 [==============================] - 321s 1s/step - loss: 0.0786 - multi_label_acc: 0.9595 - fbeta: 0.9315 - val_loss: 0.0859 - val_multi_label_acc: 0.9569 - val_fbeta: 0.9260\n",
      "Epoch 47/50\n",
      "253/253 [==============================] - 319s 1s/step - loss: 0.0787 - multi_label_acc: 0.9595 - fbeta: 0.9317 - val_loss: 0.0867 - val_multi_label_acc: 0.9563 - val_fbeta: 0.9250\n",
      "Epoch 48/50\n",
      "253/253 [==============================] - 314s 1s/step - loss: 0.0785 - multi_label_acc: 0.9597 - fbeta: 0.9323 - val_loss: 0.0865 - val_multi_label_acc: 0.9568 - val_fbeta: 0.9249\n",
      "Epoch 49/50\n",
      "253/253 [==============================] - 317s 1s/step - loss: 0.0788 - multi_label_acc: 0.9594 - fbeta: 0.9314 - val_loss: 0.0863 - val_multi_label_acc: 0.9570 - val_fbeta: 0.9255\n",
      "Epoch 50/50\n",
      "253/253 [==============================] - 318s 1s/step - loss: 0.0786 - multi_label_acc: 0.9596 - fbeta: 0.9318 - val_loss: 0.0862 - val_multi_label_acc: 0.9567 - val_fbeta: 0.9251\n"
     ]
    },
    {
     "data": {
      "text/plain": [
       "<tensorflow.python.keras.callbacks.History at 0x7f75edc9f7d0>"
      ]
     },
     "execution_count": 39,
     "metadata": {},
     "output_type": "execute_result"
    }
   ],
   "source": [
    "model1 = build_model() # building a sequential model for training\n",
    "\n",
    "#model1.load_weights('../input/my-best-model2/best_model2.hdf5')\n",
    "# fitting the model\n",
    "model1.fit(x=train_gen, steps_per_epoch=step_train_size, validation_data=val_gen, validation_steps=step_val_size,\n",
    "         epochs=50, callbacks=[reduced_lr, save_best_check_point] )"
   ]
  },
  {
   "cell_type": "markdown",
   "metadata": {
    "papermill": {
     "duration": 5.424299,
     "end_time": "2020-09-18T18:06:15.626040",
     "exception": false,
     "start_time": "2020-09-18T18:06:10.201741",
     "status": "completed"
    },
    "tags": []
   },
   "source": [
    "The model training lasted for approximately 2hrs 30mins with a best val_fbeta score of 0.925. Early stopping was triggered after the 29th epoch."
   ]
  },
  {
   "cell_type": "code",
   "execution_count": 40,
   "metadata": {
    "execution": {
     "iopub.execute_input": "2020-09-18T18:06:25.780425Z",
     "iopub.status.busy": "2020-09-18T18:06:25.779369Z",
     "iopub.status.idle": "2020-09-18T18:06:26.379318Z",
     "shell.execute_reply": "2020-09-18T18:06:26.378457Z"
    },
    "papermill": {
     "duration": 5.819727,
     "end_time": "2020-09-18T18:06:26.379460",
     "exception": false,
     "start_time": "2020-09-18T18:06:20.559733",
     "status": "completed"
    },
    "tags": []
   },
   "outputs": [],
   "source": [
    "model2 = build_model() # building a sequential model for testing\n",
    "\n",
    "#loading in the weights of the trained model\n",
    "model2.load_weights('best_model3.hdf5')"
   ]
  },
  {
   "cell_type": "code",
   "execution_count": 41,
   "metadata": {
    "execution": {
     "iopub.execute_input": "2020-09-18T18:06:36.517224Z",
     "iopub.status.busy": "2020-09-18T18:06:36.507167Z",
     "iopub.status.idle": "2020-09-18T18:06:36.548532Z",
     "shell.execute_reply": "2020-09-18T18:06:36.549096Z"
    },
    "papermill": {
     "duration": 5.217976,
     "end_time": "2020-09-18T18:06:36.549245",
     "exception": false,
     "start_time": "2020-09-18T18:06:31.331269",
     "status": "completed"
    },
    "tags": []
   },
   "outputs": [
    {
     "data": {
      "text/html": [
       "<div>\n",
       "<style scoped>\n",
       "    .dataframe tbody tr th:only-of-type {\n",
       "        vertical-align: middle;\n",
       "    }\n",
       "\n",
       "    .dataframe tbody tr th {\n",
       "        vertical-align: top;\n",
       "    }\n",
       "\n",
       "    .dataframe thead th {\n",
       "        text-align: right;\n",
       "    }\n",
       "</style>\n",
       "<table border=\"1\" class=\"dataframe\">\n",
       "  <thead>\n",
       "    <tr style=\"text-align: right;\">\n",
       "      <th></th>\n",
       "      <th>image_name</th>\n",
       "      <th>tags</th>\n",
       "    </tr>\n",
       "  </thead>\n",
       "  <tbody>\n",
       "    <tr>\n",
       "      <th>0</th>\n",
       "      <td>test_0.jpg</td>\n",
       "      <td>primary clear agriculture road water</td>\n",
       "    </tr>\n",
       "    <tr>\n",
       "      <th>1</th>\n",
       "      <td>test_1.jpg</td>\n",
       "      <td>primary clear agriculture road water</td>\n",
       "    </tr>\n",
       "    <tr>\n",
       "      <th>2</th>\n",
       "      <td>test_2.jpg</td>\n",
       "      <td>primary clear agriculture road water</td>\n",
       "    </tr>\n",
       "    <tr>\n",
       "      <th>3</th>\n",
       "      <td>test_3.jpg</td>\n",
       "      <td>primary clear agriculture road water</td>\n",
       "    </tr>\n",
       "    <tr>\n",
       "      <th>4</th>\n",
       "      <td>test_4.jpg</td>\n",
       "      <td>primary clear agriculture road water</td>\n",
       "    </tr>\n",
       "  </tbody>\n",
       "</table>\n",
       "</div>"
      ],
      "text/plain": [
       "   image_name                                  tags\n",
       "0  test_0.jpg  primary clear agriculture road water\n",
       "1  test_1.jpg  primary clear agriculture road water\n",
       "2  test_2.jpg  primary clear agriculture road water\n",
       "3  test_3.jpg  primary clear agriculture road water\n",
       "4  test_4.jpg  primary clear agriculture road water"
      ]
     },
     "execution_count": 41,
     "metadata": {},
     "output_type": "execute_result"
    }
   ],
   "source": [
    "# adding .jpg extension to 'image_name' in sample_submission data\n",
    "sample_submission['image_name'] = sample_submission['image_name'].apply(lambda x: '{}.jpg'.format(x))\n",
    "sample_submission.head()"
   ]
  },
  {
   "cell_type": "code",
   "execution_count": 42,
   "metadata": {
    "execution": {
     "iopub.execute_input": "2020-09-18T18:06:46.502433Z",
     "iopub.status.busy": "2020-09-18T18:06:46.501338Z",
     "iopub.status.idle": "2020-09-18T18:06:46.513104Z",
     "shell.execute_reply": "2020-09-18T18:06:46.513669Z"
    },
    "papermill": {
     "duration": 4.967813,
     "end_time": "2020-09-18T18:06:46.513815",
     "exception": false,
     "start_time": "2020-09-18T18:06:41.546002",
     "status": "completed"
    },
    "tags": []
   },
   "outputs": [
    {
     "data": {
      "text/html": [
       "<div>\n",
       "<style scoped>\n",
       "    .dataframe tbody tr th:only-of-type {\n",
       "        vertical-align: middle;\n",
       "    }\n",
       "\n",
       "    .dataframe tbody tr th {\n",
       "        vertical-align: top;\n",
       "    }\n",
       "\n",
       "    .dataframe thead th {\n",
       "        text-align: right;\n",
       "    }\n",
       "</style>\n",
       "<table border=\"1\" class=\"dataframe\">\n",
       "  <thead>\n",
       "    <tr style=\"text-align: right;\">\n",
       "      <th></th>\n",
       "      <th>image_name</th>\n",
       "    </tr>\n",
       "  </thead>\n",
       "  <tbody>\n",
       "    <tr>\n",
       "      <th>0</th>\n",
       "      <td>test_0.jpg</td>\n",
       "    </tr>\n",
       "    <tr>\n",
       "      <th>1</th>\n",
       "      <td>test_1.jpg</td>\n",
       "    </tr>\n",
       "    <tr>\n",
       "      <th>2</th>\n",
       "      <td>test_2.jpg</td>\n",
       "    </tr>\n",
       "    <tr>\n",
       "      <th>3</th>\n",
       "      <td>test_3.jpg</td>\n",
       "    </tr>\n",
       "    <tr>\n",
       "      <th>4</th>\n",
       "      <td>test_4.jpg</td>\n",
       "    </tr>\n",
       "  </tbody>\n",
       "</table>\n",
       "</div>"
      ],
      "text/plain": [
       "   image_name\n",
       "0  test_0.jpg\n",
       "1  test_1.jpg\n",
       "2  test_2.jpg\n",
       "3  test_3.jpg\n",
       "4  test_4.jpg"
      ]
     },
     "execution_count": 42,
     "metadata": {},
     "output_type": "execute_result"
    }
   ],
   "source": [
    "# selecting the first 40669 'image_name'(s) from the submission_sample dataframe to generate image data from \n",
    "# test.jpg folder\n",
    "test1_df = sample_submission.iloc[:40669]['image_name'].reset_index().drop('index', axis=1)\n",
    "test1_df.head()"
   ]
  },
  {
   "cell_type": "code",
   "execution_count": 43,
   "metadata": {
    "execution": {
     "iopub.execute_input": "2020-09-18T18:06:57.956575Z",
     "iopub.status.busy": "2020-09-18T18:06:57.941268Z",
     "iopub.status.idle": "2020-09-18T18:07:06.543292Z",
     "shell.execute_reply": "2020-09-18T18:07:06.543814Z"
    },
    "papermill": {
     "duration": 13.794426,
     "end_time": "2020-09-18T18:07:06.544021",
     "exception": false,
     "start_time": "2020-09-18T18:06:52.749595",
     "status": "completed"
    },
    "tags": []
   },
   "outputs": [
    {
     "name": "stdout",
     "output_type": "stream",
     "text": [
      "Found 40669 validated image filenames.\n"
     ]
    }
   ],
   "source": [
    "# initializing an image data generator object for the first 40669 images in the sample submission dataframe\n",
    "test_image_gen1 = tf.keras.preprocessing.image.ImageDataGenerator()\n",
    "\n",
    "# generating the image data for the first 40669 images in the sample submission dataframe\n",
    "test_gen1 = test_image_gen1.flow_from_dataframe(dataframe=test1_df, \\\n",
    "            directory='../input/planets-dataset/planet/planet/test-jpg/', x_col='image_name', y_col=None, \\\n",
    "            batch_size=128, shuffle=False, class_mode=None, target_size=(128, 128))\n",
    "\n",
    "# setting the step size for the testing set for the first 40669 images in the sample submission dataframe\n",
    "step_test_size1 = int(np.ceil(test_gen1.samples / test_gen1.batch_size))"
   ]
  },
  {
   "cell_type": "code",
   "execution_count": 44,
   "metadata": {
    "execution": {
     "iopub.execute_input": "2020-09-18T18:07:16.774642Z",
     "iopub.status.busy": "2020-09-18T18:07:16.773576Z",
     "iopub.status.idle": "2020-09-18T18:09:38.134243Z",
     "shell.execute_reply": "2020-09-18T18:09:38.133629Z"
    },
    "papermill": {
     "duration": 146.411426,
     "end_time": "2020-09-18T18:09:38.134408",
     "exception": false,
     "start_time": "2020-09-18T18:07:11.722982",
     "status": "completed"
    },
    "tags": []
   },
   "outputs": [
    {
     "name": "stdout",
     "output_type": "stream",
     "text": [
      "318/318 [==============================] - 140s 442ms/step\n"
     ]
    }
   ],
   "source": [
    "test_gen1.reset() # reseting the generator to be sure of avoiding shuffling\n",
    "pred1 = model2.predict(test_gen1, steps=step_test_size1, verbose=1) # predicts the first 40669 images in the \n",
    "                                                                    # sample submission dataframe"
   ]
  },
  {
   "cell_type": "code",
   "execution_count": 45,
   "metadata": {
    "execution": {
     "iopub.execute_input": "2020-09-18T18:09:48.905860Z",
     "iopub.status.busy": "2020-09-18T18:09:48.905140Z",
     "iopub.status.idle": "2020-09-18T18:10:04.331541Z",
     "shell.execute_reply": "2020-09-18T18:10:04.330981Z"
    },
    "papermill": {
     "duration": 21.088576,
     "end_time": "2020-09-18T18:10:04.331673",
     "exception": false,
     "start_time": "2020-09-18T18:09:43.243097",
     "status": "completed"
    },
    "tags": []
   },
   "outputs": [
    {
     "data": {
      "text/html": [
       "<div>\n",
       "<style scoped>\n",
       "    .dataframe tbody tr th:only-of-type {\n",
       "        vertical-align: middle;\n",
       "    }\n",
       "\n",
       "    .dataframe tbody tr th {\n",
       "        vertical-align: top;\n",
       "    }\n",
       "\n",
       "    .dataframe thead th {\n",
       "        text-align: right;\n",
       "    }\n",
       "</style>\n",
       "<table border=\"1\" class=\"dataframe\">\n",
       "  <thead>\n",
       "    <tr style=\"text-align: right;\">\n",
       "      <th></th>\n",
       "      <th>image_name</th>\n",
       "      <th>tags</th>\n",
       "    </tr>\n",
       "  </thead>\n",
       "  <tbody>\n",
       "    <tr>\n",
       "      <th>0</th>\n",
       "      <td>test_0.jpg</td>\n",
       "      <td>primary clear</td>\n",
       "    </tr>\n",
       "    <tr>\n",
       "      <th>1</th>\n",
       "      <td>test_1.jpg</td>\n",
       "      <td>primary clear</td>\n",
       "    </tr>\n",
       "    <tr>\n",
       "      <th>2</th>\n",
       "      <td>test_2.jpg</td>\n",
       "      <td>primary partly_cloudy</td>\n",
       "    </tr>\n",
       "    <tr>\n",
       "      <th>3</th>\n",
       "      <td>test_3.jpg</td>\n",
       "      <td>agriculture primary cultivation clear</td>\n",
       "    </tr>\n",
       "    <tr>\n",
       "      <th>4</th>\n",
       "      <td>test_4.jpg</td>\n",
       "      <td>primary cloudy partly_cloudy</td>\n",
       "    </tr>\n",
       "  </tbody>\n",
       "</table>\n",
       "</div>"
      ],
      "text/plain": [
       "   image_name                                   tags\n",
       "0  test_0.jpg                          primary clear\n",
       "1  test_1.jpg                          primary clear\n",
       "2  test_2.jpg                  primary partly_cloudy\n",
       "3  test_3.jpg  agriculture primary cultivation clear\n",
       "4  test_4.jpg           primary cloudy partly_cloudy"
      ]
     },
     "execution_count": 45,
     "metadata": {},
     "output_type": "execute_result"
    }
   ],
   "source": [
    "test_file_names1 = test_gen1.filenames # storing the filenames (images names) of the first 40669 images names in \n",
    "                                       # the sample submission dataframe as ordered in the prediction as a \n",
    "                                       # variable\n",
    "        \n",
    "# converting the predictions of the first 40669 to tag names\n",
    "pred_tags1 = pd.DataFrame(pred1)\n",
    "pred_tags1 = pred_tags1.apply(lambda x: ' '.join(np.array(unique_labels)[x > 0.2]), axis=1)\n",
    "\n",
    "# converting the predictions of the first 40669 to a dataframe\n",
    "result1 = pd.DataFrame({'image_name': test_file_names1, 'tags': pred_tags1})\n",
    "result1.head()"
   ]
  },
  {
   "cell_type": "code",
   "execution_count": 46,
   "metadata": {
    "execution": {
     "iopub.execute_input": "2020-09-18T18:10:14.661529Z",
     "iopub.status.busy": "2020-09-18T18:10:14.659579Z",
     "iopub.status.idle": "2020-09-18T18:10:14.672919Z",
     "shell.execute_reply": "2020-09-18T18:10:14.672364Z"
    },
    "papermill": {
     "duration": 5.104246,
     "end_time": "2020-09-18T18:10:14.673063",
     "exception": false,
     "start_time": "2020-09-18T18:10:09.568817",
     "status": "completed"
    },
    "tags": []
   },
   "outputs": [
    {
     "data": {
      "text/html": [
       "<div>\n",
       "<style scoped>\n",
       "    .dataframe tbody tr th:only-of-type {\n",
       "        vertical-align: middle;\n",
       "    }\n",
       "\n",
       "    .dataframe tbody tr th {\n",
       "        vertical-align: top;\n",
       "    }\n",
       "\n",
       "    .dataframe thead th {\n",
       "        text-align: right;\n",
       "    }\n",
       "</style>\n",
       "<table border=\"1\" class=\"dataframe\">\n",
       "  <thead>\n",
       "    <tr style=\"text-align: right;\">\n",
       "      <th></th>\n",
       "      <th>image_name</th>\n",
       "    </tr>\n",
       "  </thead>\n",
       "  <tbody>\n",
       "    <tr>\n",
       "      <th>0</th>\n",
       "      <td>file_0.jpg</td>\n",
       "    </tr>\n",
       "    <tr>\n",
       "      <th>1</th>\n",
       "      <td>file_1.jpg</td>\n",
       "    </tr>\n",
       "    <tr>\n",
       "      <th>2</th>\n",
       "      <td>file_10.jpg</td>\n",
       "    </tr>\n",
       "    <tr>\n",
       "      <th>3</th>\n",
       "      <td>file_100.jpg</td>\n",
       "    </tr>\n",
       "    <tr>\n",
       "      <th>4</th>\n",
       "      <td>file_1000.jpg</td>\n",
       "    </tr>\n",
       "  </tbody>\n",
       "</table>\n",
       "</div>"
      ],
      "text/plain": [
       "      image_name\n",
       "0     file_0.jpg\n",
       "1     file_1.jpg\n",
       "2    file_10.jpg\n",
       "3   file_100.jpg\n",
       "4  file_1000.jpg"
      ]
     },
     "execution_count": 46,
     "metadata": {},
     "output_type": "execute_result"
    }
   ],
   "source": [
    "# selecting the remaining 'image_name'(s) from the submission_sample dataframe to generate image data from \n",
    "# test-additional.jpg folder\n",
    "test2_df = sample_submission.iloc[40669:]['image_name'].reset_index().drop('index', axis=1)\n",
    "test2_df.head()"
   ]
  },
  {
   "cell_type": "code",
   "execution_count": 47,
   "metadata": {
    "execution": {
     "iopub.execute_input": "2020-09-18T18:10:25.201188Z",
     "iopub.status.busy": "2020-09-18T18:10:25.190970Z",
     "iopub.status.idle": "2020-09-18T18:10:29.730509Z",
     "shell.execute_reply": "2020-09-18T18:10:29.729665Z"
    },
    "papermill": {
     "duration": 9.647593,
     "end_time": "2020-09-18T18:10:29.730643",
     "exception": false,
     "start_time": "2020-09-18T18:10:20.083050",
     "status": "completed"
    },
    "tags": []
   },
   "outputs": [
    {
     "name": "stdout",
     "output_type": "stream",
     "text": [
      "Found 20522 validated image filenames.\n"
     ]
    }
   ],
   "source": [
    "# initializing an image data generator object for the remaining images in the sample submission dataframe\n",
    "test_image_gen2 = tf.keras.preprocessing.image.ImageDataGenerator()\n",
    "\n",
    "# generating the image data for the remaining images in the sample submission dataframe\n",
    "test_gen2 = test_image_gen2.flow_from_dataframe(dataframe=test2_df, \\\n",
    "            directory='../input/planets-dataset/test-jpg-additional/test-jpg-additional/', x_col='image_name', \\\n",
    "            y_col=None, batch_size=128, shuffle=False, class_mode=None, target_size=(128, 128))\n",
    "\n",
    "# setting the step size for the testing set for the remaining images in the sample submission dataframe\n",
    "step_test_size2 = int(np.ceil(test_gen2.samples / test_gen2.batch_size))"
   ]
  },
  {
   "cell_type": "code",
   "execution_count": 48,
   "metadata": {
    "execution": {
     "iopub.execute_input": "2020-09-18T18:10:40.211208Z",
     "iopub.status.busy": "2020-09-18T18:10:40.209462Z",
     "iopub.status.idle": "2020-09-18T18:12:08.128040Z",
     "shell.execute_reply": "2020-09-18T18:12:08.127484Z"
    },
    "papermill": {
     "duration": 93.184263,
     "end_time": "2020-09-18T18:12:08.128164",
     "exception": false,
     "start_time": "2020-09-18T18:10:34.943901",
     "status": "completed"
    },
    "tags": []
   },
   "outputs": [
    {
     "name": "stdout",
     "output_type": "stream",
     "text": [
      "161/161 [==============================] - 87s 541ms/step\n"
     ]
    }
   ],
   "source": [
    "test_gen2.reset() # reseting the generator to be sure of avoiding shuffling\n",
    "pred2 = model2.predict(test_gen2, steps=step_test_size2, verbose=1) # predicts the remaining images in the \n",
    "                                                                    # sample submission dataframe"
   ]
  },
  {
   "cell_type": "code",
   "execution_count": 49,
   "metadata": {
    "execution": {
     "iopub.execute_input": "2020-09-18T18:12:18.556431Z",
     "iopub.status.busy": "2020-09-18T18:12:18.555345Z",
     "iopub.status.idle": "2020-09-18T18:12:25.731039Z",
     "shell.execute_reply": "2020-09-18T18:12:25.730427Z"
    },
    "papermill": {
     "duration": 12.534531,
     "end_time": "2020-09-18T18:12:25.731166",
     "exception": false,
     "start_time": "2020-09-18T18:12:13.196635",
     "status": "completed"
    },
    "tags": []
   },
   "outputs": [
    {
     "data": {
      "text/html": [
       "<div>\n",
       "<style scoped>\n",
       "    .dataframe tbody tr th:only-of-type {\n",
       "        vertical-align: middle;\n",
       "    }\n",
       "\n",
       "    .dataframe tbody tr th {\n",
       "        vertical-align: top;\n",
       "    }\n",
       "\n",
       "    .dataframe thead th {\n",
       "        text-align: right;\n",
       "    }\n",
       "</style>\n",
       "<table border=\"1\" class=\"dataframe\">\n",
       "  <thead>\n",
       "    <tr style=\"text-align: right;\">\n",
       "      <th></th>\n",
       "      <th>image_name</th>\n",
       "      <th>tags</th>\n",
       "    </tr>\n",
       "  </thead>\n",
       "  <tbody>\n",
       "    <tr>\n",
       "      <th>0</th>\n",
       "      <td>file_0.jpg</td>\n",
       "      <td>primary clear</td>\n",
       "    </tr>\n",
       "    <tr>\n",
       "      <th>1</th>\n",
       "      <td>file_1.jpg</td>\n",
       "      <td>agriculture habitation primary partly_cloudy road</td>\n",
       "    </tr>\n",
       "    <tr>\n",
       "      <th>2</th>\n",
       "      <td>file_10.jpg</td>\n",
       "      <td>primary road water clear</td>\n",
       "    </tr>\n",
       "    <tr>\n",
       "      <th>3</th>\n",
       "      <td>file_100.jpg</td>\n",
       "      <td>primary water clear</td>\n",
       "    </tr>\n",
       "    <tr>\n",
       "      <th>4</th>\n",
       "      <td>file_1000.jpg</td>\n",
       "      <td>primary clear</td>\n",
       "    </tr>\n",
       "  </tbody>\n",
       "</table>\n",
       "</div>"
      ],
      "text/plain": [
       "      image_name                                               tags\n",
       "0     file_0.jpg                                      primary clear\n",
       "1     file_1.jpg  agriculture habitation primary partly_cloudy road\n",
       "2    file_10.jpg                           primary road water clear\n",
       "3   file_100.jpg                                primary water clear\n",
       "4  file_1000.jpg                                      primary clear"
      ]
     },
     "execution_count": 49,
     "metadata": {},
     "output_type": "execute_result"
    }
   ],
   "source": [
    "test_file_names2 = test_gen2.filenames # storing the filenames (images names) of the remaining images names in \n",
    "                                       # the sample submission dataframe as ordered in the prediction as a \n",
    "                                       # variable\n",
    "        \n",
    "# converting the predictions of the remaining images to tag names\n",
    "pred_tags2 = pd.DataFrame(pred2)\n",
    "pred_tags2 = pred_tags2.apply(lambda x: ' '.join(np.array(unique_labels)[x > 0.2]), axis=1)\n",
    "\n",
    "# converting the predictions of the remaining to a dataframe\n",
    "result2 = pd.DataFrame({'image_name': test_file_names2, 'tags': pred_tags2})\n",
    "result2.head()"
   ]
  },
  {
   "cell_type": "code",
   "execution_count": 50,
   "metadata": {
    "execution": {
     "iopub.execute_input": "2020-09-18T18:12:36.290879Z",
     "iopub.status.busy": "2020-09-18T18:12:36.289457Z",
     "iopub.status.idle": "2020-09-18T18:12:36.315788Z",
     "shell.execute_reply": "2020-09-18T18:12:36.317024Z"
    },
    "papermill": {
     "duration": 5.156389,
     "end_time": "2020-09-18T18:12:36.317232",
     "exception": false,
     "start_time": "2020-09-18T18:12:31.160843",
     "status": "completed"
    },
    "tags": []
   },
   "outputs": [
    {
     "name": "stdout",
     "output_type": "stream",
     "text": [
      "(61191, 2)\n"
     ]
    },
    {
     "data": {
      "text/html": [
       "<div>\n",
       "<style scoped>\n",
       "    .dataframe tbody tr th:only-of-type {\n",
       "        vertical-align: middle;\n",
       "    }\n",
       "\n",
       "    .dataframe tbody tr th {\n",
       "        vertical-align: top;\n",
       "    }\n",
       "\n",
       "    .dataframe thead th {\n",
       "        text-align: right;\n",
       "    }\n",
       "</style>\n",
       "<table border=\"1\" class=\"dataframe\">\n",
       "  <thead>\n",
       "    <tr style=\"text-align: right;\">\n",
       "      <th></th>\n",
       "      <th>image_name</th>\n",
       "      <th>tags</th>\n",
       "    </tr>\n",
       "  </thead>\n",
       "  <tbody>\n",
       "    <tr>\n",
       "      <th>0</th>\n",
       "      <td>test_0.jpg</td>\n",
       "      <td>primary clear</td>\n",
       "    </tr>\n",
       "    <tr>\n",
       "      <th>1</th>\n",
       "      <td>test_1.jpg</td>\n",
       "      <td>primary clear</td>\n",
       "    </tr>\n",
       "    <tr>\n",
       "      <th>2</th>\n",
       "      <td>test_2.jpg</td>\n",
       "      <td>primary partly_cloudy</td>\n",
       "    </tr>\n",
       "    <tr>\n",
       "      <th>3</th>\n",
       "      <td>test_3.jpg</td>\n",
       "      <td>agriculture primary cultivation clear</td>\n",
       "    </tr>\n",
       "    <tr>\n",
       "      <th>4</th>\n",
       "      <td>test_4.jpg</td>\n",
       "      <td>primary cloudy partly_cloudy</td>\n",
       "    </tr>\n",
       "  </tbody>\n",
       "</table>\n",
       "</div>"
      ],
      "text/plain": [
       "   image_name                                   tags\n",
       "0  test_0.jpg                          primary clear\n",
       "1  test_1.jpg                          primary clear\n",
       "2  test_2.jpg                  primary partly_cloudy\n",
       "3  test_3.jpg  agriculture primary cultivation clear\n",
       "4  test_4.jpg           primary cloudy partly_cloudy"
      ]
     },
     "execution_count": 50,
     "metadata": {},
     "output_type": "execute_result"
    }
   ],
   "source": [
    "final_result = pd.concat([result1, result2]) # concatenate the predictions of the test.jpg and \n",
    "                                             # test-additional.jpg into a single dataframe\n",
    "    \n",
    "final_result = final_result.reset_index().drop('index', axis=1) # reseting the index of the dataframe so it \n",
    "                                                                # matches that of sample submission datafarme\n",
    "\n",
    "print(final_result.shape)\n",
    "final_result.head()"
   ]
  },
  {
   "cell_type": "code",
   "execution_count": 51,
   "metadata": {
    "execution": {
     "iopub.execute_input": "2020-09-18T18:12:46.977759Z",
     "iopub.status.busy": "2020-09-18T18:12:46.976662Z",
     "iopub.status.idle": "2020-09-18T18:12:46.979121Z",
     "shell.execute_reply": "2020-09-18T18:12:46.979739Z"
    },
    "papermill": {
     "duration": 5.181959,
     "end_time": "2020-09-18T18:12:46.979908",
     "exception": false,
     "start_time": "2020-09-18T18:12:41.797949",
     "status": "completed"
    },
    "tags": []
   },
   "outputs": [],
   "source": [
    "# confirming that the predicted images are ordered as in sample submission dataframe\n",
    "assert sum(sample_submission['image_name'] == final_result['image_name']) == 61191"
   ]
  },
  {
   "cell_type": "code",
   "execution_count": 52,
   "metadata": {
    "execution": {
     "iopub.execute_input": "2020-09-18T18:12:58.742637Z",
     "iopub.status.busy": "2020-09-18T18:12:58.729976Z",
     "iopub.status.idle": "2020-09-18T18:12:58.747658Z",
     "shell.execute_reply": "2020-09-18T18:12:58.747123Z"
    },
    "papermill": {
     "duration": 5.754941,
     "end_time": "2020-09-18T18:12:58.747775",
     "exception": false,
     "start_time": "2020-09-18T18:12:52.992834",
     "status": "completed"
    },
    "tags": []
   },
   "outputs": [
    {
     "data": {
      "text/html": [
       "<div>\n",
       "<style scoped>\n",
       "    .dataframe tbody tr th:only-of-type {\n",
       "        vertical-align: middle;\n",
       "    }\n",
       "\n",
       "    .dataframe tbody tr th {\n",
       "        vertical-align: top;\n",
       "    }\n",
       "\n",
       "    .dataframe thead th {\n",
       "        text-align: right;\n",
       "    }\n",
       "</style>\n",
       "<table border=\"1\" class=\"dataframe\">\n",
       "  <thead>\n",
       "    <tr style=\"text-align: right;\">\n",
       "      <th></th>\n",
       "      <th>image_name</th>\n",
       "      <th>tags</th>\n",
       "    </tr>\n",
       "  </thead>\n",
       "  <tbody>\n",
       "    <tr>\n",
       "      <th>0</th>\n",
       "      <td>test_0</td>\n",
       "      <td>primary clear</td>\n",
       "    </tr>\n",
       "    <tr>\n",
       "      <th>1</th>\n",
       "      <td>test_1</td>\n",
       "      <td>primary clear</td>\n",
       "    </tr>\n",
       "    <tr>\n",
       "      <th>2</th>\n",
       "      <td>test_2</td>\n",
       "      <td>primary partly_cloudy</td>\n",
       "    </tr>\n",
       "    <tr>\n",
       "      <th>3</th>\n",
       "      <td>test_3</td>\n",
       "      <td>agriculture primary cultivation clear</td>\n",
       "    </tr>\n",
       "    <tr>\n",
       "      <th>4</th>\n",
       "      <td>test_4</td>\n",
       "      <td>primary cloudy partly_cloudy</td>\n",
       "    </tr>\n",
       "  </tbody>\n",
       "</table>\n",
       "</div>"
      ],
      "text/plain": [
       "  image_name                                   tags\n",
       "0     test_0                          primary clear\n",
       "1     test_1                          primary clear\n",
       "2     test_2                  primary partly_cloudy\n",
       "3     test_3  agriculture primary cultivation clear\n",
       "4     test_4           primary cloudy partly_cloudy"
      ]
     },
     "execution_count": 52,
     "metadata": {},
     "output_type": "execute_result"
    }
   ],
   "source": [
    "# removing the .jpg extension from 'iamge_name' column\n",
    "final_result['image_name'] = final_result['image_name'].apply(lambda x: x[:-4])\n",
    "final_result.head()"
   ]
  },
  {
   "cell_type": "code",
   "execution_count": 53,
   "metadata": {
    "execution": {
     "iopub.execute_input": "2020-09-18T18:13:09.545120Z",
     "iopub.status.busy": "2020-09-18T18:13:09.544393Z",
     "iopub.status.idle": "2020-09-18T18:13:09.992427Z",
     "shell.execute_reply": "2020-09-18T18:13:09.991223Z"
    },
    "papermill": {
     "duration": 5.7236,
     "end_time": "2020-09-18T18:13:09.992556",
     "exception": false,
     "start_time": "2020-09-18T18:13:04.268956",
     "status": "completed"
    },
    "tags": []
   },
   "outputs": [],
   "source": [
    "final_result.to_csv('sixth_submission.csv', index=False) # saving the predictions"
   ]
  },
  {
   "cell_type": "code",
   "execution_count": null,
   "metadata": {
    "papermill": {
     "duration": 5.068298,
     "end_time": "2020-09-18T18:13:20.463327",
     "exception": false,
     "start_time": "2020-09-18T18:13:15.395029",
     "status": "completed"
    },
    "tags": []
   },
   "outputs": [],
   "source": []
  }
 ],
 "metadata": {
  "kernelspec": {
   "display_name": "Python 3",
   "language": "python",
   "name": "python3"
  },
  "language_info": {
   "codemirror_mode": {
    "name": "ipython",
    "version": 3
   },
   "file_extension": ".py",
   "mimetype": "text/x-python",
   "name": "python",
   "nbconvert_exporter": "python",
   "pygments_lexer": "ipython3",
   "version": "3.7.7"
  },
  "papermill": {
   "duration": 16766.269498,
   "end_time": "2020-09-18T18:13:27.442648",
   "environment_variables": {},
   "exception": null,
   "input_path": "__notebook__.ipynb",
   "output_path": "__notebook__.ipynb",
   "parameters": {},
   "start_time": "2020-09-18T13:34:01.173150",
   "version": "2.1.0"
  }
 },
 "nbformat": 4,
 "nbformat_minor": 4
}
